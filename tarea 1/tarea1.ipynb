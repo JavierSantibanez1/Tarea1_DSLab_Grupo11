{
 "cells": [
  {
   "cell_type": "markdown",
   "metadata": {},
   "source": [
    "# Tarea 1: DS Lab\n",
    "- Ricardo Arancibia\n",
    "- José Díaz\n",
    "- Javier Santibáñez"
   ]
  },
  {
   "cell_type": "code",
   "execution_count": 2,
   "metadata": {},
   "outputs": [],
   "source": [
    "import numpy as np\n",
    "import pandas as pd\n",
    "import matplotlib.pyplot as plt\n",
    "import seaborn as sns"
   ]
  },
  {
   "cell_type": "markdown",
   "metadata": {},
   "source": [
    "## P1"
   ]
  },
  {
   "cell_type": "code",
   "execution_count": 107,
   "metadata": {},
   "outputs": [
    {
     "output_type": "stream",
     "name": "stdout",
     "text": "(16295, 9)\n"
    },
    {
     "output_type": "execute_result",
     "data": {
      "text/plain": "                    property_type|rent_type|location       price n_rooms  \\\n0    Casa en Arriendo, LA SOLEDAD NORTE Bogotá D.C..  $1.050.000       3   \n1  Casa en Arriendo, CIUDAD SALITRE SUR-ORIENTAL ...  $3.930.000       3   \n2  Casa en Arriendo, VILLA DE LOS ALPES II SECTOR...    $750.000       3   \n3        Casa en Arriendo, PARIS GAITAN Bogotá D.C..  $3.400.000       5   \n4  Casa en Arriendo, BALCONES DE ORIENTE Bogotá D...  $1.560.000       4   \n\n  n_bath   surface                                            details  \\\n0      2   63.0 m2  Excelente casa cerca de la calle 80 y Avenida ...   \n1      2  100.0 m2  Se arrienda casa bonita totalmente amoblada co...   \n2      1   90.0 m2  CASA DE TRES NIVELES TRES ALCOBAS SALA COMEDOR...   \n3      4   71.0 m2  casa ezquinera excelente ubicacion cinco alcob...   \n4      3   96.0 m2  Excelente casa de tres niveles, buena ubicació...   \n\n                                                 url  metrocuadrado_index  \\\n0  https://www.metrocuadrado.com/inmueble/arriend...                 25.6   \n1  https://www.metrocuadrado.com/inmueble/arriend...                 57.3   \n2  https://www.metrocuadrado.com/inmueble/arriend...                 12.2   \n3  https://www.metrocuadrado.com/inmueble/arriend...                 56.0   \n4  https://www.metrocuadrado.com/inmueble/arriend...                 47.1   \n\n  Archivo  \n0     all  \n1     all  \n2     all  \n3     all  \n4     all  ",
      "text/html": "<div>\n<style scoped>\n    .dataframe tbody tr th:only-of-type {\n        vertical-align: middle;\n    }\n\n    .dataframe tbody tr th {\n        vertical-align: top;\n    }\n\n    .dataframe thead th {\n        text-align: right;\n    }\n</style>\n<table border=\"1\" class=\"dataframe\">\n  <thead>\n    <tr style=\"text-align: right;\">\n      <th></th>\n      <th>property_type|rent_type|location</th>\n      <th>price</th>\n      <th>n_rooms</th>\n      <th>n_bath</th>\n      <th>surface</th>\n      <th>details</th>\n      <th>url</th>\n      <th>metrocuadrado_index</th>\n      <th>Archivo</th>\n    </tr>\n  </thead>\n  <tbody>\n    <tr>\n      <th>0</th>\n      <td>Casa en Arriendo, LA SOLEDAD NORTE Bogotá D.C..</td>\n      <td>$1.050.000</td>\n      <td>3</td>\n      <td>2</td>\n      <td>63.0 m2</td>\n      <td>Excelente casa cerca de la calle 80 y Avenida ...</td>\n      <td>https://www.metrocuadrado.com/inmueble/arriend...</td>\n      <td>25.6</td>\n      <td>all</td>\n    </tr>\n    <tr>\n      <th>1</th>\n      <td>Casa en Arriendo, CIUDAD SALITRE SUR-ORIENTAL ...</td>\n      <td>$3.930.000</td>\n      <td>3</td>\n      <td>2</td>\n      <td>100.0 m2</td>\n      <td>Se arrienda casa bonita totalmente amoblada co...</td>\n      <td>https://www.metrocuadrado.com/inmueble/arriend...</td>\n      <td>57.3</td>\n      <td>all</td>\n    </tr>\n    <tr>\n      <th>2</th>\n      <td>Casa en Arriendo, VILLA DE LOS ALPES II SECTOR...</td>\n      <td>$750.000</td>\n      <td>3</td>\n      <td>1</td>\n      <td>90.0 m2</td>\n      <td>CASA DE TRES NIVELES TRES ALCOBAS SALA COMEDOR...</td>\n      <td>https://www.metrocuadrado.com/inmueble/arriend...</td>\n      <td>12.2</td>\n      <td>all</td>\n    </tr>\n    <tr>\n      <th>3</th>\n      <td>Casa en Arriendo, PARIS GAITAN Bogotá D.C..</td>\n      <td>$3.400.000</td>\n      <td>5</td>\n      <td>4</td>\n      <td>71.0 m2</td>\n      <td>casa ezquinera excelente ubicacion cinco alcob...</td>\n      <td>https://www.metrocuadrado.com/inmueble/arriend...</td>\n      <td>56.0</td>\n      <td>all</td>\n    </tr>\n    <tr>\n      <th>4</th>\n      <td>Casa en Arriendo, BALCONES DE ORIENTE Bogotá D...</td>\n      <td>$1.560.000</td>\n      <td>4</td>\n      <td>3</td>\n      <td>96.0 m2</td>\n      <td>Excelente casa de tres niveles, buena ubicació...</td>\n      <td>https://www.metrocuadrado.com/inmueble/arriend...</td>\n      <td>47.1</td>\n      <td>all</td>\n    </tr>\n  </tbody>\n</table>\n</div>"
     },
     "metadata": {},
     "execution_count": 107
    }
   ],
   "source": [
    "df_all = pd.read_csv('data/raw/w{}/metrocuadrado_all_w{}.csv'.format(str(13),str(13)))\n",
    "for NN in range(14,18):\n",
    "    direc = 'data/raw/w{}/metrocuadrado_all_w{}.csv'.format(str(NN),str(NN))\n",
    "    df_aux = pd.read_csv(direc)\n",
    "    # df_all.merge(df_aux)\n",
    "    df_all = pd.concat([df_all,df_aux], ignore_index= True)\n",
    "df_all['Archivo'] = 'all' \n",
    "df_all.drop_duplicates(inplace=True, ignore_index= True)\n",
    "print(df_all.shape)\n",
    "df_all.head()"
   ]
  },
  {
   "cell_type": "code",
   "execution_count": 108,
   "metadata": {},
   "outputs": [
    {
     "output_type": "stream",
     "name": "stdout",
     "text": "(2099, 9)\n"
    },
    {
     "output_type": "execute_result",
     "data": {
      "text/plain": "                    property_type|rent_type|location         price  n_rooms  \\\n0  Casa en Arriendo, CIUDAD SALITRE SUR-ORIENTAL ...    $3.930.000      3.0   \n1  Casa en Venta Y Arriendo, BELLAVISTA Bogotá D.C..    $1.300.000      3.0   \n2  Casa en Arriendo, PORTALES DEL NORTE Bogotá D.C..    $1.800.000      3.0   \n3  Casa en Venta Y Arriendo, SANTA SOFIA Bogotá D...    $1.500.000      5.0   \n4  Casa en Venta Y Arriendo, URBANIZACION SABANA ...  $145.000.000      3.0   \n\n   n_bath   surface                                            details  \\\n0     2.0  100.0 m2  Se arrienda casa bonita totalmente amoblada co...   \n1     2.0   72.0 m2  hermosa casa en venta y en arriendo en, mandal...   \n2     3.0  76.81 m2  Estrato 4. CASA TRIPLEX!! Exterior . Cuenta co...   \n3     3.0  76.22 m2  Casa en Santa Sofia, excelente ubicación sobre...   \n4     2.0   77.0 m2  Casa esquinera, de tres niveles, se venden mue...   \n\n                                                 url  metrocuadrado_index  \\\n0  https://www.metrocuadrado.com/inmueble/arriend...                 57.3   \n1  https://www.metrocuadrado.com/inmueble/venta-c...                 41.4   \n2  https://www.metrocuadrado.com/inmueble/arriend...                 41.3   \n3  https://www.metrocuadrado.com/inmueble/venta-c...                 34.2   \n4  https://www.metrocuadrado.com/inmueble/venta-c...                 62.5   \n\n     Archivo  \n0  furnished  \n1  furnished  \n2  furnished  \n3  furnished  \n4  furnished  ",
      "text/html": "<div>\n<style scoped>\n    .dataframe tbody tr th:only-of-type {\n        vertical-align: middle;\n    }\n\n    .dataframe tbody tr th {\n        vertical-align: top;\n    }\n\n    .dataframe thead th {\n        text-align: right;\n    }\n</style>\n<table border=\"1\" class=\"dataframe\">\n  <thead>\n    <tr style=\"text-align: right;\">\n      <th></th>\n      <th>property_type|rent_type|location</th>\n      <th>price</th>\n      <th>n_rooms</th>\n      <th>n_bath</th>\n      <th>surface</th>\n      <th>details</th>\n      <th>url</th>\n      <th>metrocuadrado_index</th>\n      <th>Archivo</th>\n    </tr>\n  </thead>\n  <tbody>\n    <tr>\n      <th>0</th>\n      <td>Casa en Arriendo, CIUDAD SALITRE SUR-ORIENTAL ...</td>\n      <td>$3.930.000</td>\n      <td>3.0</td>\n      <td>2.0</td>\n      <td>100.0 m2</td>\n      <td>Se arrienda casa bonita totalmente amoblada co...</td>\n      <td>https://www.metrocuadrado.com/inmueble/arriend...</td>\n      <td>57.3</td>\n      <td>furnished</td>\n    </tr>\n    <tr>\n      <th>1</th>\n      <td>Casa en Venta Y Arriendo, BELLAVISTA Bogotá D.C..</td>\n      <td>$1.300.000</td>\n      <td>3.0</td>\n      <td>2.0</td>\n      <td>72.0 m2</td>\n      <td>hermosa casa en venta y en arriendo en, mandal...</td>\n      <td>https://www.metrocuadrado.com/inmueble/venta-c...</td>\n      <td>41.4</td>\n      <td>furnished</td>\n    </tr>\n    <tr>\n      <th>2</th>\n      <td>Casa en Arriendo, PORTALES DEL NORTE Bogotá D.C..</td>\n      <td>$1.800.000</td>\n      <td>3.0</td>\n      <td>3.0</td>\n      <td>76.81 m2</td>\n      <td>Estrato 4. CASA TRIPLEX!! Exterior . Cuenta co...</td>\n      <td>https://www.metrocuadrado.com/inmueble/arriend...</td>\n      <td>41.3</td>\n      <td>furnished</td>\n    </tr>\n    <tr>\n      <th>3</th>\n      <td>Casa en Venta Y Arriendo, SANTA SOFIA Bogotá D...</td>\n      <td>$1.500.000</td>\n      <td>5.0</td>\n      <td>3.0</td>\n      <td>76.22 m2</td>\n      <td>Casa en Santa Sofia, excelente ubicación sobre...</td>\n      <td>https://www.metrocuadrado.com/inmueble/venta-c...</td>\n      <td>34.2</td>\n      <td>furnished</td>\n    </tr>\n    <tr>\n      <th>4</th>\n      <td>Casa en Venta Y Arriendo, URBANIZACION SABANA ...</td>\n      <td>$145.000.000</td>\n      <td>3.0</td>\n      <td>2.0</td>\n      <td>77.0 m2</td>\n      <td>Casa esquinera, de tres niveles, se venden mue...</td>\n      <td>https://www.metrocuadrado.com/inmueble/venta-c...</td>\n      <td>62.5</td>\n      <td>furnished</td>\n    </tr>\n  </tbody>\n</table>\n</div>"
     },
     "metadata": {},
     "execution_count": 108
    }
   ],
   "source": [
    "df_fur = pd.read_csv('data/raw/w{}/metrocuadrado_furnished_w{}.csv'.format(str(13),str(13)))\n",
    "for NN in range(14,18):\n",
    "    direc = 'data/raw/w{}/metrocuadrado_furnished_w{}.csv'.format(str(NN),str(NN))\n",
    "    df_aux = pd.read_csv(direc)\n",
    "    # df_fur.merge(df_aux)\n",
    "    df_fur = pd.concat([df_fur,df_aux], ignore_index= True)\n",
    "df_fur['Archivo'] = 'furnished'\n",
    "df_fur.drop_duplicates(inplace=True, ignore_index= True)\n",
    "print(df_fur.shape)\n",
    "df_fur.head()"
   ]
  },
  {
   "cell_type": "code",
   "execution_count": 154,
   "metadata": {},
   "outputs": [
    {
     "output_type": "stream",
     "name": "stdout",
     "text": "(18394, 9)\n"
    },
    {
     "output_type": "execute_result",
     "data": {
      "text/plain": "                    property_type|rent_type|location       price n_rooms  \\\n0    Casa en Arriendo, LA SOLEDAD NORTE Bogotá D.C..  $1.050.000       3   \n1  Casa en Arriendo, CIUDAD SALITRE SUR-ORIENTAL ...  $3.930.000       3   \n2  Casa en Arriendo, VILLA DE LOS ALPES II SECTOR...    $750.000       3   \n3        Casa en Arriendo, PARIS GAITAN Bogotá D.C..  $3.400.000       5   \n4  Casa en Arriendo, BALCONES DE ORIENTE Bogotá D...  $1.560.000       4   \n\n  n_bath   surface                                            details  \\\n0      2   63.0 m2  Excelente casa cerca de la calle 80 y Avenida ...   \n1      2  100.0 m2  Se arrienda casa bonita totalmente amoblada co...   \n2      1   90.0 m2  CASA DE TRES NIVELES TRES ALCOBAS SALA COMEDOR...   \n3      4   71.0 m2  casa ezquinera excelente ubicacion cinco alcob...   \n4      3   96.0 m2  Excelente casa de tres niveles, buena ubicació...   \n\n                                                 url  metrocuadrado_index  \\\n0  https://www.metrocuadrado.com/inmueble/arriend...                 25.6   \n1  https://www.metrocuadrado.com/inmueble/arriend...                 57.3   \n2  https://www.metrocuadrado.com/inmueble/arriend...                 12.2   \n3  https://www.metrocuadrado.com/inmueble/arriend...                 56.0   \n4  https://www.metrocuadrado.com/inmueble/arriend...                 47.1   \n\n  Archivo  \n0     all  \n1     all  \n2     all  \n3     all  \n4     all  ",
      "text/html": "<div>\n<style scoped>\n    .dataframe tbody tr th:only-of-type {\n        vertical-align: middle;\n    }\n\n    .dataframe tbody tr th {\n        vertical-align: top;\n    }\n\n    .dataframe thead th {\n        text-align: right;\n    }\n</style>\n<table border=\"1\" class=\"dataframe\">\n  <thead>\n    <tr style=\"text-align: right;\">\n      <th></th>\n      <th>property_type|rent_type|location</th>\n      <th>price</th>\n      <th>n_rooms</th>\n      <th>n_bath</th>\n      <th>surface</th>\n      <th>details</th>\n      <th>url</th>\n      <th>metrocuadrado_index</th>\n      <th>Archivo</th>\n    </tr>\n  </thead>\n  <tbody>\n    <tr>\n      <th>0</th>\n      <td>Casa en Arriendo, LA SOLEDAD NORTE Bogotá D.C..</td>\n      <td>$1.050.000</td>\n      <td>3</td>\n      <td>2</td>\n      <td>63.0 m2</td>\n      <td>Excelente casa cerca de la calle 80 y Avenida ...</td>\n      <td>https://www.metrocuadrado.com/inmueble/arriend...</td>\n      <td>25.6</td>\n      <td>all</td>\n    </tr>\n    <tr>\n      <th>1</th>\n      <td>Casa en Arriendo, CIUDAD SALITRE SUR-ORIENTAL ...</td>\n      <td>$3.930.000</td>\n      <td>3</td>\n      <td>2</td>\n      <td>100.0 m2</td>\n      <td>Se arrienda casa bonita totalmente amoblada co...</td>\n      <td>https://www.metrocuadrado.com/inmueble/arriend...</td>\n      <td>57.3</td>\n      <td>all</td>\n    </tr>\n    <tr>\n      <th>2</th>\n      <td>Casa en Arriendo, VILLA DE LOS ALPES II SECTOR...</td>\n      <td>$750.000</td>\n      <td>3</td>\n      <td>1</td>\n      <td>90.0 m2</td>\n      <td>CASA DE TRES NIVELES TRES ALCOBAS SALA COMEDOR...</td>\n      <td>https://www.metrocuadrado.com/inmueble/arriend...</td>\n      <td>12.2</td>\n      <td>all</td>\n    </tr>\n    <tr>\n      <th>3</th>\n      <td>Casa en Arriendo, PARIS GAITAN Bogotá D.C..</td>\n      <td>$3.400.000</td>\n      <td>5</td>\n      <td>4</td>\n      <td>71.0 m2</td>\n      <td>casa ezquinera excelente ubicacion cinco alcob...</td>\n      <td>https://www.metrocuadrado.com/inmueble/arriend...</td>\n      <td>56.0</td>\n      <td>all</td>\n    </tr>\n    <tr>\n      <th>4</th>\n      <td>Casa en Arriendo, BALCONES DE ORIENTE Bogotá D...</td>\n      <td>$1.560.000</td>\n      <td>4</td>\n      <td>3</td>\n      <td>96.0 m2</td>\n      <td>Excelente casa de tres niveles, buena ubicació...</td>\n      <td>https://www.metrocuadrado.com/inmueble/arriend...</td>\n      <td>47.1</td>\n      <td>all</td>\n    </tr>\n  </tbody>\n</table>\n</div>"
     },
     "metadata": {},
     "execution_count": 154
    }
   ],
   "source": [
    "df = pd.concat([df_all,df_fur],ignore_index= True)\n",
    "print(df.shape)\n",
    "df.head()"
   ]
  },
  {
   "cell_type": "code",
   "execution_count": 155,
   "metadata": {},
   "outputs": [
    {
     "output_type": "stream",
     "name": "stdout",
     "text": "(18143, 9)\n"
    }
   ],
   "source": [
    "df.dropna(subset=['price','n_rooms','n_bath','surface'], inplace=True)\n",
    "df.reset_index(drop=True,inplace=True)\n",
    "print(df.shape)"
   ]
  },
  {
   "cell_type": "code",
   "execution_count": 156,
   "metadata": {},
   "outputs": [],
   "source": [
    "df['price'] = [x.replace('$','') for x in df['price']]\n",
    "df['price'] = [x.replace('.','') for x in df['price']]\n",
    "df['surface'] = [x.replace(' m2','') for x in df['surface']]\n",
    "df['price'] = df['price'].astype('float64')\n",
    "df['surface'] = df['surface'].astype('float64')\n",
    "# df.head()"
   ]
  },
  {
   "cell_type": "code",
   "execution_count": 157,
   "metadata": {},
   "outputs": [
    {
     "output_type": "execute_result",
     "data": {
      "text/plain": "  property type  rent_type                                    location  \\\n0          Casa   Arriendo               LA SOLEDAD NORTE Bogotá D.C..   \n1          Casa   Arriendo    CIUDAD SALITRE SUR-ORIENTAL Bogotá D.C..   \n2          Casa   Arriendo   VILLA DE LOS ALPES II SECTOR Bogotá D.C..   \n3          Casa   Arriendo                   PARIS GAITAN Bogotá D.C..   \n4          Casa   Arriendo            BALCONES DE ORIENTE Bogotá D.C..   \n\n       price n_rooms n_bath  surface  \\\n0  1050000.0       3      2     63.0   \n1  3930000.0       3      2    100.0   \n2   750000.0       3      1     90.0   \n3  3400000.0       5      4     71.0   \n4  1560000.0       4      3     96.0   \n\n                                             details  \\\n0  Excelente casa cerca de la calle 80 y Avenida ...   \n1  Se arrienda casa bonita totalmente amoblada co...   \n2  CASA DE TRES NIVELES TRES ALCOBAS SALA COMEDOR...   \n3  casa ezquinera excelente ubicacion cinco alcob...   \n4  Excelente casa de tres niveles, buena ubicació...   \n\n                                                 url  metrocuadrado_index  \\\n0  https://www.metrocuadrado.com/inmueble/arriend...                 25.6   \n1  https://www.metrocuadrado.com/inmueble/arriend...                 57.3   \n2  https://www.metrocuadrado.com/inmueble/arriend...                 12.2   \n3  https://www.metrocuadrado.com/inmueble/arriend...                 56.0   \n4  https://www.metrocuadrado.com/inmueble/arriend...                 47.1   \n\n  Archivo  \n0     all  \n1     all  \n2     all  \n3     all  \n4     all  ",
      "text/html": "<div>\n<style scoped>\n    .dataframe tbody tr th:only-of-type {\n        vertical-align: middle;\n    }\n\n    .dataframe tbody tr th {\n        vertical-align: top;\n    }\n\n    .dataframe thead th {\n        text-align: right;\n    }\n</style>\n<table border=\"1\" class=\"dataframe\">\n  <thead>\n    <tr style=\"text-align: right;\">\n      <th></th>\n      <th>property type</th>\n      <th>rent_type</th>\n      <th>location</th>\n      <th>price</th>\n      <th>n_rooms</th>\n      <th>n_bath</th>\n      <th>surface</th>\n      <th>details</th>\n      <th>url</th>\n      <th>metrocuadrado_index</th>\n      <th>Archivo</th>\n    </tr>\n  </thead>\n  <tbody>\n    <tr>\n      <th>0</th>\n      <td>Casa</td>\n      <td>Arriendo</td>\n      <td>LA SOLEDAD NORTE Bogotá D.C..</td>\n      <td>1050000.0</td>\n      <td>3</td>\n      <td>2</td>\n      <td>63.0</td>\n      <td>Excelente casa cerca de la calle 80 y Avenida ...</td>\n      <td>https://www.metrocuadrado.com/inmueble/arriend...</td>\n      <td>25.6</td>\n      <td>all</td>\n    </tr>\n    <tr>\n      <th>1</th>\n      <td>Casa</td>\n      <td>Arriendo</td>\n      <td>CIUDAD SALITRE SUR-ORIENTAL Bogotá D.C..</td>\n      <td>3930000.0</td>\n      <td>3</td>\n      <td>2</td>\n      <td>100.0</td>\n      <td>Se arrienda casa bonita totalmente amoblada co...</td>\n      <td>https://www.metrocuadrado.com/inmueble/arriend...</td>\n      <td>57.3</td>\n      <td>all</td>\n    </tr>\n    <tr>\n      <th>2</th>\n      <td>Casa</td>\n      <td>Arriendo</td>\n      <td>VILLA DE LOS ALPES II SECTOR Bogotá D.C..</td>\n      <td>750000.0</td>\n      <td>3</td>\n      <td>1</td>\n      <td>90.0</td>\n      <td>CASA DE TRES NIVELES TRES ALCOBAS SALA COMEDOR...</td>\n      <td>https://www.metrocuadrado.com/inmueble/arriend...</td>\n      <td>12.2</td>\n      <td>all</td>\n    </tr>\n    <tr>\n      <th>3</th>\n      <td>Casa</td>\n      <td>Arriendo</td>\n      <td>PARIS GAITAN Bogotá D.C..</td>\n      <td>3400000.0</td>\n      <td>5</td>\n      <td>4</td>\n      <td>71.0</td>\n      <td>casa ezquinera excelente ubicacion cinco alcob...</td>\n      <td>https://www.metrocuadrado.com/inmueble/arriend...</td>\n      <td>56.0</td>\n      <td>all</td>\n    </tr>\n    <tr>\n      <th>4</th>\n      <td>Casa</td>\n      <td>Arriendo</td>\n      <td>BALCONES DE ORIENTE Bogotá D.C..</td>\n      <td>1560000.0</td>\n      <td>4</td>\n      <td>3</td>\n      <td>96.0</td>\n      <td>Excelente casa de tres niveles, buena ubicació...</td>\n      <td>https://www.metrocuadrado.com/inmueble/arriend...</td>\n      <td>47.1</td>\n      <td>all</td>\n    </tr>\n  </tbody>\n</table>\n</div>"
     },
     "metadata": {},
     "execution_count": 157
    }
   ],
   "source": [
    "df_aux = df['property_type|rent_type|location'].str.split(pat=',',expand =True)\n",
    "df_aux[0] = [x.replace(' ',', ', 1) for x in df_aux[0]]\n",
    "df_aux = pd.concat([df_aux[0].str.split(pat=',',expand =True), df_aux[1]], axis=1, ignore_index=True)\n",
    "df_aux.columns = ['property type','rent_type','location']\n",
    "df_aux['rent_type'] = [x.replace('en ','') for x in df_aux['rent_type']]\n",
    "# df_aux\n",
    "df = pd.concat([df_aux,df.drop(columns=['property_type|rent_type|location'])], axis=1)\n",
    "df.head()"
   ]
  }
 ],
 "metadata": {
  "language_info": {
   "codemirror_mode": {
    "name": "ipython",
    "version": 3
   },
   "file_extension": ".py",
   "mimetype": "text/x-python",
   "name": "python",
   "nbconvert_exporter": "python",
   "pygments_lexer": "ipython3",
   "version": "3.7.1-final"
  },
  "orig_nbformat": 2,
  "kernelspec": {
   "name": "python3",
   "display_name": "Python 3"
  }
 },
 "nbformat": 4,
 "nbformat_minor": 2
}