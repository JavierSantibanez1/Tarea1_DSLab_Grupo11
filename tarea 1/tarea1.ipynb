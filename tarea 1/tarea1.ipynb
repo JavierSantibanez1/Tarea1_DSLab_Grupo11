{
 "cells": [
  {
   "cell_type": "markdown",
   "metadata": {},
   "source": [
    "# Tarea 1: DS Lab\n",
    "- Ricardo Arancibia\n",
    "- José Díaz\n",
    "- Javier Santibáñez"
   ]
  },
  {
   "cell_type": "code",
   "execution_count": 2,
   "metadata": {},
   "outputs": [],
   "source": [
    "import numpy as np\n",
    "import pandas as pd\n",
    "import matplotlib.pyplot as plt\n",
    "import seaborn as sns"
   ]
  },
  {
   "cell_type": "markdown",
   "metadata": {},
   "source": [
    "## P1"
   ]
  },
  {
   "cell_type": "code",
   "execution_count": 107,
   "metadata": {},
   "outputs": [
    {
     "output_type": "stream",
     "name": "stdout",
     "text": "(16295, 9)\n"
    },
    {
     "output_type": "execute_result",
     "data": {
      "text/plain": "                    property_type|rent_type|location       price n_rooms  \\\n0    Casa en Arriendo, LA SOLEDAD NORTE Bogotá D.C..  $1.050.000       3   \n1  Casa en Arriendo, CIUDAD SALITRE SUR-ORIENTAL ...  $3.930.000       3   \n2  Casa en Arriendo, VILLA DE LOS ALPES II SECTOR...    $750.000       3   \n3        Casa en Arriendo, PARIS GAITAN Bogotá D.C..  $3.400.000       5   \n4  Casa en Arriendo, BALCONES DE ORIENTE Bogotá D...  $1.560.000       4   \n\n  n_bath   surface                                            details  \\\n0      2   63.0 m2  Excelente casa cerca de la calle 80 y Avenida ...   \n1      2  100.0 m2  Se arrienda casa bonita totalmente amoblada co...   \n2      1   90.0 m2  CASA DE TRES NIVELES TRES ALCOBAS SALA COMEDOR...   \n3      4   71.0 m2  casa ezquinera excelente ubicacion cinco alcob...   \n4      3   96.0 m2  Excelente casa de tres niveles, buena ubicació...   \n\n                                                 url  metrocuadrado_index  \\\n0  https://www.metrocuadrado.com/inmueble/arriend...                 25.6   \n1  https://www.metrocuadrado.com/inmueble/arriend...                 57.3   \n2  https://www.metrocuadrado.com/inmueble/arriend...                 12.2   \n3  https://www.metrocuadrado.com/inmueble/arriend...                 56.0   \n4  https://www.metrocuadrado.com/inmueble/arriend...                 47.1   \n\n  Archivo  \n0     all  \n1     all  \n2     all  \n3     all  \n4     all  ",
      "text/html": "<div>\n<style scoped>\n    .dataframe tbody tr th:only-of-type {\n        vertical-align: middle;\n    }\n\n    .dataframe tbody tr th {\n        vertical-align: top;\n    }\n\n    .dataframe thead th {\n        text-align: right;\n    }\n</style>\n<table border=\"1\" class=\"dataframe\">\n  <thead>\n    <tr style=\"text-align: right;\">\n      <th></th>\n      <th>property_type|rent_type|location</th>\n      <th>price</th>\n      <th>n_rooms</th>\n      <th>n_bath</th>\n      <th>surface</th>\n      <th>details</th>\n      <th>url</th>\n      <th>metrocuadrado_index</th>\n      <th>Archivo</th>\n    </tr>\n  </thead>\n  <tbody>\n    <tr>\n      <th>0</th>\n      <td>Casa en Arriendo, LA SOLEDAD NORTE Bogotá D.C..</td>\n      <td>$1.050.000</td>\n      <td>3</td>\n      <td>2</td>\n      <td>63.0 m2</td>\n      <td>Excelente casa cerca de la calle 80 y Avenida ...</td>\n      <td>https://www.metrocuadrado.com/inmueble/arriend...</td>\n      <td>25.6</td>\n      <td>all</td>\n    </tr>\n    <tr>\n      <th>1</th>\n      <td>Casa en Arriendo, CIUDAD SALITRE SUR-ORIENTAL ...</td>\n      <td>$3.930.000</td>\n      <td>3</td>\n      <td>2</td>\n      <td>100.0 m2</td>\n      <td>Se arrienda casa bonita totalmente amoblada co...</td>\n      <td>https://www.metrocuadrado.com/inmueble/arriend...</td>\n      <td>57.3</td>\n      <td>all</td>\n    </tr>\n    <tr>\n      <th>2</th>\n      <td>Casa en Arriendo, VILLA DE LOS ALPES II SECTOR...</td>\n      <td>$750.000</td>\n      <td>3</td>\n      <td>1</td>\n      <td>90.0 m2</td>\n      <td>CASA DE TRES NIVELES TRES ALCOBAS SALA COMEDOR...</td>\n      <td>https://www.metrocuadrado.com/inmueble/arriend...</td>\n      <td>12.2</td>\n      <td>all</td>\n    </tr>\n    <tr>\n      <th>3</th>\n      <td>Casa en Arriendo, PARIS GAITAN Bogotá D.C..</td>\n      <td>$3.400.000</td>\n      <td>5</td>\n      <td>4</td>\n      <td>71.0 m2</td>\n      <td>casa ezquinera excelente ubicacion cinco alcob...</td>\n      <td>https://www.metrocuadrado.com/inmueble/arriend...</td>\n      <td>56.0</td>\n      <td>all</td>\n    </tr>\n    <tr>\n      <th>4</th>\n      <td>Casa en Arriendo, BALCONES DE ORIENTE Bogotá D...</td>\n      <td>$1.560.000</td>\n      <td>4</td>\n      <td>3</td>\n      <td>96.0 m2</td>\n      <td>Excelente casa de tres niveles, buena ubicació...</td>\n      <td>https://www.metrocuadrado.com/inmueble/arriend...</td>\n      <td>47.1</td>\n      <td>all</td>\n    </tr>\n  </tbody>\n</table>\n</div>"
     },
     "metadata": {},
     "execution_count": 107
    }
   ],
   "source": [
    "df_all = pd.read_csv('data/raw/w{}/metrocuadrado_all_w{}.csv'.format(str(13),str(13)))\n",
    "for NN in range(14,18):\n",
    "    direc = 'data/raw/w{}/metrocuadrado_all_w{}.csv'.format(str(NN),str(NN))\n",
    "    df_aux = pd.read_csv(direc)\n",
    "    # df_all.merge(df_aux)\n",
    "    df_all = pd.concat([df_all,df_aux], ignore_index= True)\n",
    "df_all['Archivo'] = 'all' \n",
    "df_all.drop_duplicates(inplace=True, ignore_index= True)\n",
    "print(df_all.shape)\n",
    "df_all.head()"
   ]
  },
  {
   "cell_type": "code",
   "execution_count": 108,
   "metadata": {},
   "outputs": [
    {
     "output_type": "stream",
     "name": "stdout",
     "text": "(2099, 9)\n"
    },
    {
     "output_type": "execute_result",
     "data": {
      "text/plain": "                    property_type|rent_type|location         price  n_rooms  \\\n0  Casa en Arriendo, CIUDAD SALITRE SUR-ORIENTAL ...    $3.930.000      3.0   \n1  Casa en Venta Y Arriendo, BELLAVISTA Bogotá D.C..    $1.300.000      3.0   \n2  Casa en Arriendo, PORTALES DEL NORTE Bogotá D.C..    $1.800.000      3.0   \n3  Casa en Venta Y Arriendo, SANTA SOFIA Bogotá D...    $1.500.000      5.0   \n4  Casa en Venta Y Arriendo, URBANIZACION SABANA ...  $145.000.000      3.0   \n\n   n_bath   surface                                            details  \\\n0     2.0  100.0 m2  Se arrienda casa bonita totalmente amoblada co...   \n1     2.0   72.0 m2  hermosa casa en venta y en arriendo en, mandal...   \n2     3.0  76.81 m2  Estrato 4. CASA TRIPLEX!! Exterior . Cuenta co...   \n3     3.0  76.22 m2  Casa en Santa Sofia, excelente ubicación sobre...   \n4     2.0   77.0 m2  Casa esquinera, de tres niveles, se venden mue...   \n\n                                                 url  metrocuadrado_index  \\\n0  https://www.metrocuadrado.com/inmueble/arriend...                 57.3   \n1  https://www.metrocuadrado.com/inmueble/venta-c...                 41.4   \n2  https://www.metrocuadrado.com/inmueble/arriend...                 41.3   \n3  https://www.metrocuadrado.com/inmueble/venta-c...                 34.2   \n4  https://www.metrocuadrado.com/inmueble/venta-c...                 62.5   \n\n     Archivo  \n0  furnished  \n1  furnished  \n2  furnished  \n3  furnished  \n4  furnished  ",
      "text/html": "<div>\n<style scoped>\n    .dataframe tbody tr th:only-of-type {\n        vertical-align: middle;\n    }\n\n    .dataframe tbody tr th {\n        vertical-align: top;\n    }\n\n    .dataframe thead th {\n        text-align: right;\n    }\n</style>\n<table border=\"1\" class=\"dataframe\">\n  <thead>\n    <tr style=\"text-align: right;\">\n      <th></th>\n      <th>property_type|rent_type|location</th>\n      <th>price</th>\n      <th>n_rooms</th>\n      <th>n_bath</th>\n      <th>surface</th>\n      <th>details</th>\n      <th>url</th>\n      <th>metrocuadrado_index</th>\n      <th>Archivo</th>\n    </tr>\n  </thead>\n  <tbody>\n    <tr>\n      <th>0</th>\n      <td>Casa en Arriendo, CIUDAD SALITRE SUR-ORIENTAL ...</td>\n      <td>$3.930.000</td>\n      <td>3.0</td>\n      <td>2.0</td>\n      <td>100.0 m2</td>\n      <td>Se arrienda casa bonita totalmente amoblada co...</td>\n      <td>https://www.metrocuadrado.com/inmueble/arriend...</td>\n      <td>57.3</td>\n      <td>furnished</td>\n    </tr>\n    <tr>\n      <th>1</th>\n      <td>Casa en Venta Y Arriendo, BELLAVISTA Bogotá D.C..</td>\n      <td>$1.300.000</td>\n      <td>3.0</td>\n      <td>2.0</td>\n      <td>72.0 m2</td>\n      <td>hermosa casa en venta y en arriendo en, mandal...</td>\n      <td>https://www.metrocuadrado.com/inmueble/venta-c...</td>\n      <td>41.4</td>\n      <td>furnished</td>\n    </tr>\n    <tr>\n      <th>2</th>\n      <td>Casa en Arriendo, PORTALES DEL NORTE Bogotá D.C..</td>\n      <td>$1.800.000</td>\n      <td>3.0</td>\n      <td>3.0</td>\n      <td>76.81 m2</td>\n      <td>Estrato 4. CASA TRIPLEX!! Exterior . Cuenta co...</td>\n      <td>https://www.metrocuadrado.com/inmueble/arriend...</td>\n      <td>41.3</td>\n      <td>furnished</td>\n    </tr>\n    <tr>\n      <th>3</th>\n      <td>Casa en Venta Y Arriendo, SANTA SOFIA Bogotá D...</td>\n      <td>$1.500.000</td>\n      <td>5.0</td>\n      <td>3.0</td>\n      <td>76.22 m2</td>\n      <td>Casa en Santa Sofia, excelente ubicación sobre...</td>\n      <td>https://www.metrocuadrado.com/inmueble/venta-c...</td>\n      <td>34.2</td>\n      <td>furnished</td>\n    </tr>\n    <tr>\n      <th>4</th>\n      <td>Casa en Venta Y Arriendo, URBANIZACION SABANA ...</td>\n      <td>$145.000.000</td>\n      <td>3.0</td>\n      <td>2.0</td>\n      <td>77.0 m2</td>\n      <td>Casa esquinera, de tres niveles, se venden mue...</td>\n      <td>https://www.metrocuadrado.com/inmueble/venta-c...</td>\n      <td>62.5</td>\n      <td>furnished</td>\n    </tr>\n  </tbody>\n</table>\n</div>"
     },
     "metadata": {},
     "execution_count": 108
    }
   ],
   "source": [
    "df_fur = pd.read_csv('data/raw/w{}/metrocuadrado_furnished_w{}.csv'.format(str(13),str(13)))\n",
    "for NN in range(14,18):\n",
    "    direc = 'data/raw/w{}/metrocuadrado_furnished_w{}.csv'.format(str(NN),str(NN))\n",
    "    df_aux = pd.read_csv(direc)\n",
    "    # df_fur.merge(df_aux)\n",
    "    df_fur = pd.concat([df_fur,df_aux], ignore_index= True)\n",
    "df_fur['Archivo'] = 'furnished'\n",
    "df_fur.drop_duplicates(inplace=True, ignore_index= True)\n",
    "print(df_fur.shape)\n",
    "df_fur.head()"
   ]
  },
  {
   "cell_type": "code",
   "execution_count": 311,
   "metadata": {},
   "outputs": [
    {
     "output_type": "stream",
     "name": "stdout",
     "text": "(18394, 9)\n"
    },
    {
     "output_type": "execute_result",
     "data": {
      "text/plain": "                    property_type|rent_type|location       price n_rooms  \\\n0    Casa en Arriendo, LA SOLEDAD NORTE Bogotá D.C..  $1.050.000       3   \n1  Casa en Arriendo, CIUDAD SALITRE SUR-ORIENTAL ...  $3.930.000       3   \n2  Casa en Arriendo, VILLA DE LOS ALPES II SECTOR...    $750.000       3   \n3        Casa en Arriendo, PARIS GAITAN Bogotá D.C..  $3.400.000       5   \n4  Casa en Arriendo, BALCONES DE ORIENTE Bogotá D...  $1.560.000       4   \n\n  n_bath   surface                                            details  \\\n0      2   63.0 m2  Excelente casa cerca de la calle 80 y Avenida ...   \n1      2  100.0 m2  Se arrienda casa bonita totalmente amoblada co...   \n2      1   90.0 m2  CASA DE TRES NIVELES TRES ALCOBAS SALA COMEDOR...   \n3      4   71.0 m2  casa ezquinera excelente ubicacion cinco alcob...   \n4      3   96.0 m2  Excelente casa de tres niveles, buena ubicació...   \n\n                                                 url  metrocuadrado_index  \\\n0  https://www.metrocuadrado.com/inmueble/arriend...                 25.6   \n1  https://www.metrocuadrado.com/inmueble/arriend...                 57.3   \n2  https://www.metrocuadrado.com/inmueble/arriend...                 12.2   \n3  https://www.metrocuadrado.com/inmueble/arriend...                 56.0   \n4  https://www.metrocuadrado.com/inmueble/arriend...                 47.1   \n\n  Archivo  \n0     all  \n1     all  \n2     all  \n3     all  \n4     all  ",
      "text/html": "<div>\n<style scoped>\n    .dataframe tbody tr th:only-of-type {\n        vertical-align: middle;\n    }\n\n    .dataframe tbody tr th {\n        vertical-align: top;\n    }\n\n    .dataframe thead th {\n        text-align: right;\n    }\n</style>\n<table border=\"1\" class=\"dataframe\">\n  <thead>\n    <tr style=\"text-align: right;\">\n      <th></th>\n      <th>property_type|rent_type|location</th>\n      <th>price</th>\n      <th>n_rooms</th>\n      <th>n_bath</th>\n      <th>surface</th>\n      <th>details</th>\n      <th>url</th>\n      <th>metrocuadrado_index</th>\n      <th>Archivo</th>\n    </tr>\n  </thead>\n  <tbody>\n    <tr>\n      <th>0</th>\n      <td>Casa en Arriendo, LA SOLEDAD NORTE Bogotá D.C..</td>\n      <td>$1.050.000</td>\n      <td>3</td>\n      <td>2</td>\n      <td>63.0 m2</td>\n      <td>Excelente casa cerca de la calle 80 y Avenida ...</td>\n      <td>https://www.metrocuadrado.com/inmueble/arriend...</td>\n      <td>25.6</td>\n      <td>all</td>\n    </tr>\n    <tr>\n      <th>1</th>\n      <td>Casa en Arriendo, CIUDAD SALITRE SUR-ORIENTAL ...</td>\n      <td>$3.930.000</td>\n      <td>3</td>\n      <td>2</td>\n      <td>100.0 m2</td>\n      <td>Se arrienda casa bonita totalmente amoblada co...</td>\n      <td>https://www.metrocuadrado.com/inmueble/arriend...</td>\n      <td>57.3</td>\n      <td>all</td>\n    </tr>\n    <tr>\n      <th>2</th>\n      <td>Casa en Arriendo, VILLA DE LOS ALPES II SECTOR...</td>\n      <td>$750.000</td>\n      <td>3</td>\n      <td>1</td>\n      <td>90.0 m2</td>\n      <td>CASA DE TRES NIVELES TRES ALCOBAS SALA COMEDOR...</td>\n      <td>https://www.metrocuadrado.com/inmueble/arriend...</td>\n      <td>12.2</td>\n      <td>all</td>\n    </tr>\n    <tr>\n      <th>3</th>\n      <td>Casa en Arriendo, PARIS GAITAN Bogotá D.C..</td>\n      <td>$3.400.000</td>\n      <td>5</td>\n      <td>4</td>\n      <td>71.0 m2</td>\n      <td>casa ezquinera excelente ubicacion cinco alcob...</td>\n      <td>https://www.metrocuadrado.com/inmueble/arriend...</td>\n      <td>56.0</td>\n      <td>all</td>\n    </tr>\n    <tr>\n      <th>4</th>\n      <td>Casa en Arriendo, BALCONES DE ORIENTE Bogotá D...</td>\n      <td>$1.560.000</td>\n      <td>4</td>\n      <td>3</td>\n      <td>96.0 m2</td>\n      <td>Excelente casa de tres niveles, buena ubicació...</td>\n      <td>https://www.metrocuadrado.com/inmueble/arriend...</td>\n      <td>47.1</td>\n      <td>all</td>\n    </tr>\n  </tbody>\n</table>\n</div>"
     },
     "metadata": {},
     "execution_count": 311
    }
   ],
   "source": [
    "df = pd.concat([df_all,df_fur],ignore_index= True)\n",
    "print(df.shape)\n",
    "df.head()"
   ]
  },
  {
   "cell_type": "code",
   "execution_count": 312,
   "metadata": {},
   "outputs": [
    {
     "output_type": "stream",
     "name": "stdout",
     "text": "(18143, 9)\n"
    }
   ],
   "source": [
    "df.dropna(subset=['price','n_rooms','n_bath','surface'], inplace=True)\n",
    "df.reset_index(drop=True,inplace=True)\n",
    "print(df.shape)"
   ]
  },
  {
   "cell_type": "code",
   "execution_count": 313,
   "metadata": {},
   "outputs": [],
   "source": [
    "df['price'] = [x.replace('$','') for x in df['price']]\n",
    "df['price'] = [x.replace('.','') for x in df['price']]\n",
    "df['surface'] = [x.replace(' m2','') for x in df['surface']]\n",
    "df['price'] = df['price'].astype('float64')\n",
    "df['surface'] = df['surface'].astype('float64')\n",
    "for i in range(len(df)):\n",
    "    x = df['n_bath'][i]\n",
    "    y = df['n_rooms'][i]\n",
    "    if type(x)== float:\n",
    "        df['n_bath'][i] = str(int(x)) # 3.0 <-> '3'\n",
    "    if type(y)== float:\n",
    "        df['n_rooms'][i] = str(int(y))\n",
    "# df.head()"
   ]
  },
  {
   "cell_type": "code",
   "execution_count": 314,
   "metadata": {},
   "outputs": [
    {
     "output_type": "execute_result",
     "data": {
      "text/plain": "  property_type  rent_type                                    location  \\\n0          Casa   Arriendo               LA SOLEDAD NORTE Bogotá D.C..   \n1          Casa   Arriendo    CIUDAD SALITRE SUR-ORIENTAL Bogotá D.C..   \n2          Casa   Arriendo   VILLA DE LOS ALPES II SECTOR Bogotá D.C..   \n3          Casa   Arriendo                   PARIS GAITAN Bogotá D.C..   \n4          Casa   Arriendo            BALCONES DE ORIENTE Bogotá D.C..   \n\n       price n_rooms n_bath  surface  \\\n0  1050000.0       3      2     63.0   \n1  3930000.0       3      2    100.0   \n2   750000.0       3      1     90.0   \n3  3400000.0       5      4     71.0   \n4  1560000.0       4      3     96.0   \n\n                                             details  \\\n0  Excelente casa cerca de la calle 80 y Avenida ...   \n1  Se arrienda casa bonita totalmente amoblada co...   \n2  CASA DE TRES NIVELES TRES ALCOBAS SALA COMEDOR...   \n3  casa ezquinera excelente ubicacion cinco alcob...   \n4  Excelente casa de tres niveles, buena ubicació...   \n\n                                                 url  metrocuadrado_index  \\\n0  https://www.metrocuadrado.com/inmueble/arriend...                 25.6   \n1  https://www.metrocuadrado.com/inmueble/arriend...                 57.3   \n2  https://www.metrocuadrado.com/inmueble/arriend...                 12.2   \n3  https://www.metrocuadrado.com/inmueble/arriend...                 56.0   \n4  https://www.metrocuadrado.com/inmueble/arriend...                 47.1   \n\n  Archivo  \n0     all  \n1     all  \n2     all  \n3     all  \n4     all  ",
      "text/html": "<div>\n<style scoped>\n    .dataframe tbody tr th:only-of-type {\n        vertical-align: middle;\n    }\n\n    .dataframe tbody tr th {\n        vertical-align: top;\n    }\n\n    .dataframe thead th {\n        text-align: right;\n    }\n</style>\n<table border=\"1\" class=\"dataframe\">\n  <thead>\n    <tr style=\"text-align: right;\">\n      <th></th>\n      <th>property_type</th>\n      <th>rent_type</th>\n      <th>location</th>\n      <th>price</th>\n      <th>n_rooms</th>\n      <th>n_bath</th>\n      <th>surface</th>\n      <th>details</th>\n      <th>url</th>\n      <th>metrocuadrado_index</th>\n      <th>Archivo</th>\n    </tr>\n  </thead>\n  <tbody>\n    <tr>\n      <th>0</th>\n      <td>Casa</td>\n      <td>Arriendo</td>\n      <td>LA SOLEDAD NORTE Bogotá D.C..</td>\n      <td>1050000.0</td>\n      <td>3</td>\n      <td>2</td>\n      <td>63.0</td>\n      <td>Excelente casa cerca de la calle 80 y Avenida ...</td>\n      <td>https://www.metrocuadrado.com/inmueble/arriend...</td>\n      <td>25.6</td>\n      <td>all</td>\n    </tr>\n    <tr>\n      <th>1</th>\n      <td>Casa</td>\n      <td>Arriendo</td>\n      <td>CIUDAD SALITRE SUR-ORIENTAL Bogotá D.C..</td>\n      <td>3930000.0</td>\n      <td>3</td>\n      <td>2</td>\n      <td>100.0</td>\n      <td>Se arrienda casa bonita totalmente amoblada co...</td>\n      <td>https://www.metrocuadrado.com/inmueble/arriend...</td>\n      <td>57.3</td>\n      <td>all</td>\n    </tr>\n    <tr>\n      <th>2</th>\n      <td>Casa</td>\n      <td>Arriendo</td>\n      <td>VILLA DE LOS ALPES II SECTOR Bogotá D.C..</td>\n      <td>750000.0</td>\n      <td>3</td>\n      <td>1</td>\n      <td>90.0</td>\n      <td>CASA DE TRES NIVELES TRES ALCOBAS SALA COMEDOR...</td>\n      <td>https://www.metrocuadrado.com/inmueble/arriend...</td>\n      <td>12.2</td>\n      <td>all</td>\n    </tr>\n    <tr>\n      <th>3</th>\n      <td>Casa</td>\n      <td>Arriendo</td>\n      <td>PARIS GAITAN Bogotá D.C..</td>\n      <td>3400000.0</td>\n      <td>5</td>\n      <td>4</td>\n      <td>71.0</td>\n      <td>casa ezquinera excelente ubicacion cinco alcob...</td>\n      <td>https://www.metrocuadrado.com/inmueble/arriend...</td>\n      <td>56.0</td>\n      <td>all</td>\n    </tr>\n    <tr>\n      <th>4</th>\n      <td>Casa</td>\n      <td>Arriendo</td>\n      <td>BALCONES DE ORIENTE Bogotá D.C..</td>\n      <td>1560000.0</td>\n      <td>4</td>\n      <td>3</td>\n      <td>96.0</td>\n      <td>Excelente casa de tres niveles, buena ubicació...</td>\n      <td>https://www.metrocuadrado.com/inmueble/arriend...</td>\n      <td>47.1</td>\n      <td>all</td>\n    </tr>\n  </tbody>\n</table>\n</div>"
     },
     "metadata": {},
     "execution_count": 314
    }
   ],
   "source": [
    "df_aux = df['property_type|rent_type|location'].str.split(pat=',',expand =True)\n",
    "df_aux[0] = [x.replace(' ',', ', 1) for x in df_aux[0]]\n",
    "df_aux = pd.concat([df_aux[0].str.split(pat=',',expand =True), df_aux[1]], axis=1, ignore_index=True)\n",
    "df_aux.columns = ['property_type','rent_type','location']\n",
    "df_aux['rent_type'] = [x.replace('en ','') for x in df_aux['rent_type']]\n",
    "# df_aux\n",
    "df = pd.concat([df_aux,df.drop(columns=['property_type|rent_type|location'])], axis=1)\n",
    "df.head()"
   ]
  },
  {
   "cell_type": "code",
   "execution_count": 315,
   "metadata": {},
   "outputs": [],
   "source": [
    "df['price by m2'] = df['price']/df['surface']"
   ]
  },
  {
   "cell_type": "code",
   "execution_count": 316,
   "metadata": {},
   "outputs": [],
   "source": [
    "lista = []\n",
    "for x in df['url']:\n",
    "    if x.find('-garajes')==-1:\n",
    "        lista.append('0')\n",
    "    else:\n",
    "        lista.append(x[x.find('banos-')+6: x.find('-garajes')])\n",
    "df['n_garajes'] = lista"
   ]
  },
  {
   "cell_type": "code",
   "execution_count": 317,
   "metadata": {},
   "outputs": [],
   "source": [
    "df['tipo_producto'] = np.zeros(len(df)) # categoria 0\n",
    "indices=df.query('80<=surface <120 and property_type==\"Casa\"').index\n",
    "df.loc[indices,'tipo_producto'] = 1\n",
    "indices=df.query('120<=surface <180 and property_type==\"Casa\"').index\n",
    "df.loc[indices,'tipo_producto'] = 2\n",
    "indices=df.query('180<=surface <240 and property_type==\"Casa\"').index\n",
    "df.loc[indices,'tipo_producto'] = 3\n",
    "indices=df.query('240<=surface <360 and property_type==\"Casa\"').index\n",
    "df.loc[indices,'tipo_producto'] = 4\n",
    "indices=df.query('360<=surface <=460 and property_type==\"Casa\"').index\n",
    "df.loc[indices,'tipo_producto'] = 5\n",
    "indices=df.query('40<=surface <60 and property_type==\"Apartamento\"').index\n",
    "df.loc[indices,'tipo_producto'] = 6\n",
    "indices=df.query('60<=surface <80 and property_type==\"Apartamento\"').index\n",
    "df.loc[indices,'tipo_producto'] = 7\n",
    "indices=df.query('80<=surface <=120 and property_type==\"Apartamento\"').index\n",
    "df.loc[indices,'tipo_producto'] = 8"
   ]
  },
  {
   "cell_type": "code",
   "execution_count": 318,
   "metadata": {},
   "outputs": [],
   "source": [
    "# 5\n",
    "df_upz = pd.read_csv('data/asignacion_upz/barrio-upz.csv')\n",
    "df_upz.rename(columns={'pro_location':'location'}, inplace=True)\n",
    "# print(df_upz.shape)"
   ]
  },
  {
   "cell_type": "code",
   "execution_count": 319,
   "metadata": {},
   "outputs": [
    {
     "output_type": "execute_result",
     "data": {
      "text/plain": "  property_type  rent_type                      location      price n_rooms  \\\n0          Casa   Arriendo              la soledad norte  1050000.0       3   \n1          Casa   Arriendo   ciudad salitre sur-oriental  3930000.0       3   \n2          Casa   Arriendo  villa de los alpes ii sector   750000.0       3   \n3          Casa   Arriendo                  paris gaitan  3400000.0       5   \n4          Casa   Arriendo           balcones de oriente  1560000.0       4   \n\n  n_bath  surface                                            details  \\\n0      2     63.0  Excelente casa cerca de la calle 80 y Avenida ...   \n1      2    100.0  Se arrienda casa bonita totalmente amoblada co...   \n2      1     90.0  CASA DE TRES NIVELES TRES ALCOBAS SALA COMEDOR...   \n3      4     71.0  casa ezquinera excelente ubicacion cinco alcob...   \n4      3     96.0  Excelente casa de tres niveles, buena ubicació...   \n\n                                                 url  metrocuadrado_index  \\\n0  https://www.metrocuadrado.com/inmueble/arriend...                 25.6   \n1  https://www.metrocuadrado.com/inmueble/arriend...                 57.3   \n2  https://www.metrocuadrado.com/inmueble/arriend...                 12.2   \n3  https://www.metrocuadrado.com/inmueble/arriend...                 56.0   \n4  https://www.metrocuadrado.com/inmueble/arriend...                 47.1   \n\n  Archivo   price by m2 n_garajes  tipo_producto UPlCodigo  UPlTipo  \\\n0     all  16666.666667         1            0.0       NaN      NaN   \n1     all  39300.000000         1            1.0       NaN      NaN   \n2     all   8333.333333         0            1.0       NaN      NaN   \n3     all  47887.323944         0            0.0     UPZ29      1.0   \n4     all  16250.000000         1            1.0     UPZ12      1.0   \n\n        UPlNombre       UPlArea  \n0             NaN           NaN  \n1             NaN           NaN  \n2             NaN           NaN  \n3  MINUTO DE DIOS  3.732645e+06  \n4         TOBERIN  2.906631e+06  ",
      "text/html": "<div>\n<style scoped>\n    .dataframe tbody tr th:only-of-type {\n        vertical-align: middle;\n    }\n\n    .dataframe tbody tr th {\n        vertical-align: top;\n    }\n\n    .dataframe thead th {\n        text-align: right;\n    }\n</style>\n<table border=\"1\" class=\"dataframe\">\n  <thead>\n    <tr style=\"text-align: right;\">\n      <th></th>\n      <th>property_type</th>\n      <th>rent_type</th>\n      <th>location</th>\n      <th>price</th>\n      <th>n_rooms</th>\n      <th>n_bath</th>\n      <th>surface</th>\n      <th>details</th>\n      <th>url</th>\n      <th>metrocuadrado_index</th>\n      <th>Archivo</th>\n      <th>price by m2</th>\n      <th>n_garajes</th>\n      <th>tipo_producto</th>\n      <th>UPlCodigo</th>\n      <th>UPlTipo</th>\n      <th>UPlNombre</th>\n      <th>UPlArea</th>\n    </tr>\n  </thead>\n  <tbody>\n    <tr>\n      <th>0</th>\n      <td>Casa</td>\n      <td>Arriendo</td>\n      <td>la soledad norte</td>\n      <td>1050000.0</td>\n      <td>3</td>\n      <td>2</td>\n      <td>63.0</td>\n      <td>Excelente casa cerca de la calle 80 y Avenida ...</td>\n      <td>https://www.metrocuadrado.com/inmueble/arriend...</td>\n      <td>25.6</td>\n      <td>all</td>\n      <td>16666.666667</td>\n      <td>1</td>\n      <td>0.0</td>\n      <td>NaN</td>\n      <td>NaN</td>\n      <td>NaN</td>\n      <td>NaN</td>\n    </tr>\n    <tr>\n      <th>1</th>\n      <td>Casa</td>\n      <td>Arriendo</td>\n      <td>ciudad salitre sur-oriental</td>\n      <td>3930000.0</td>\n      <td>3</td>\n      <td>2</td>\n      <td>100.0</td>\n      <td>Se arrienda casa bonita totalmente amoblada co...</td>\n      <td>https://www.metrocuadrado.com/inmueble/arriend...</td>\n      <td>57.3</td>\n      <td>all</td>\n      <td>39300.000000</td>\n      <td>1</td>\n      <td>1.0</td>\n      <td>NaN</td>\n      <td>NaN</td>\n      <td>NaN</td>\n      <td>NaN</td>\n    </tr>\n    <tr>\n      <th>2</th>\n      <td>Casa</td>\n      <td>Arriendo</td>\n      <td>villa de los alpes ii sector</td>\n      <td>750000.0</td>\n      <td>3</td>\n      <td>1</td>\n      <td>90.0</td>\n      <td>CASA DE TRES NIVELES TRES ALCOBAS SALA COMEDOR...</td>\n      <td>https://www.metrocuadrado.com/inmueble/arriend...</td>\n      <td>12.2</td>\n      <td>all</td>\n      <td>8333.333333</td>\n      <td>0</td>\n      <td>1.0</td>\n      <td>NaN</td>\n      <td>NaN</td>\n      <td>NaN</td>\n      <td>NaN</td>\n    </tr>\n    <tr>\n      <th>3</th>\n      <td>Casa</td>\n      <td>Arriendo</td>\n      <td>paris gaitan</td>\n      <td>3400000.0</td>\n      <td>5</td>\n      <td>4</td>\n      <td>71.0</td>\n      <td>casa ezquinera excelente ubicacion cinco alcob...</td>\n      <td>https://www.metrocuadrado.com/inmueble/arriend...</td>\n      <td>56.0</td>\n      <td>all</td>\n      <td>47887.323944</td>\n      <td>0</td>\n      <td>0.0</td>\n      <td>UPZ29</td>\n      <td>1.0</td>\n      <td>MINUTO DE DIOS</td>\n      <td>3.732645e+06</td>\n    </tr>\n    <tr>\n      <th>4</th>\n      <td>Casa</td>\n      <td>Arriendo</td>\n      <td>balcones de oriente</td>\n      <td>1560000.0</td>\n      <td>4</td>\n      <td>3</td>\n      <td>96.0</td>\n      <td>Excelente casa de tres niveles, buena ubicació...</td>\n      <td>https://www.metrocuadrado.com/inmueble/arriend...</td>\n      <td>47.1</td>\n      <td>all</td>\n      <td>16250.000000</td>\n      <td>1</td>\n      <td>1.0</td>\n      <td>UPZ12</td>\n      <td>1.0</td>\n      <td>TOBERIN</td>\n      <td>2.906631e+06</td>\n    </tr>\n  </tbody>\n</table>\n</div>"
     },
     "metadata": {},
     "execution_count": 319
    }
   ],
   "source": [
    "df['location'] = df['location'].apply(str.lower)\n",
    "df['location'] = [x.replace(' bogotá d.c..','') for x in df['location']]\n",
    "df['location'] = df['location'].apply(str.strip)\n",
    "\n",
    "df = pd.merge(df, df_upz, how='left', on='location')\n",
    "df.head()"
   ]
  },
  {
   "cell_type": "code",
   "execution_count": 330,
   "metadata": {},
   "outputs": [
    {
     "output_type": "stream",
     "name": "stdout",
     "text": "Numero de observaciones a los que no se les puede adjuntar un codigo UPZ:  2031\nPorcentaje asignable:  88.8\n"
    }
   ],
   "source": [
    "df.rename(columns={'UPlCodigo':'UPZ_Codigo'}, inplace=True)\n",
    "print('Numero de observaciones a los que no se les puede adjuntar un codigo UPZ: ', df['UPZ_Codigo'].isna().sum())\n",
    "print(\"Porcentaje asignable: \", round((len(df)-df['UPZ_Codigo'].isna().sum())/len(df)*100,1))\n",
    "df.dropna(subset=['UPZ_Codigo'], inplace=True)\n",
    "df.reset_index(drop=True,inplace=True)"
   ]
  },
  {
   "cell_type": "code",
   "execution_count": 331,
   "metadata": {},
   "outputs": [
    {
     "output_type": "execute_result",
     "data": {
      "text/plain": "  property_type  rent_type                      location      price n_rooms  \\\n0          Casa   Arriendo              la soledad norte  1050000.0       3   \n1          Casa   Arriendo   ciudad salitre sur-oriental  3930000.0       3   \n2          Casa   Arriendo  villa de los alpes ii sector   750000.0       3   \n3          Casa   Arriendo                  paris gaitan  3400000.0       5   \n4          Casa   Arriendo           balcones de oriente  1560000.0       4   \n\n  n_bath  surface                                            details  \\\n0      2     63.0  Excelente casa cerca de la calle 80 y Avenida ...   \n1      2    100.0  Se arrienda casa bonita totalmente amoblada co...   \n2      1     90.0  CASA DE TRES NIVELES TRES ALCOBAS SALA COMEDOR...   \n3      4     71.0  casa ezquinera excelente ubicacion cinco alcob...   \n4      3     96.0  Excelente casa de tres niveles, buena ubicació...   \n\n                                                 url  metrocuadrado_index  \\\n0  https://www.metrocuadrado.com/inmueble/arriend...                 25.6   \n1  https://www.metrocuadrado.com/inmueble/arriend...                 57.3   \n2  https://www.metrocuadrado.com/inmueble/arriend...                 12.2   \n3  https://www.metrocuadrado.com/inmueble/arriend...                 56.0   \n4  https://www.metrocuadrado.com/inmueble/arriend...                 47.1   \n\n   ...       UPlNombre       UPlArea          nomupz  personas  \\\n0  ...             NaN           NaN             NaN       NaN   \n1  ...             NaN           NaN             NaN       NaN   \n2  ...             NaN           NaN             NaN       NaN   \n3  ...  MINUTO DE DIOS  3.732645e+06  MINUTO DE DIOS  156375.0   \n4  ...         TOBERIN  2.906631e+06         TOBERIN   50037.0   \n\n  trabajoinf_ninos_5_17_anos_perc  trabajoinfampliado_ninos_5_17_anos_perc  \\\n0                             NaN                                      NaN   \n1                             NaN                                      NaN   \n2                             NaN                                      NaN   \n3                             1.1                                      0.8   \n4                             1.8                                     16.7   \n\n  jovenes_14_24_anos_nini_perc  indice_envegecimiento jefe_mujer_perc  \\\n0                          NaN                    NaN             NaN   \n1                          NaN                    NaN             NaN   \n2                          NaN                    NaN             NaN   \n3                         12.6                   71.1       37.073314   \n4                          9.1                   54.7       36.279630   \n\n   adultos_mayores_pobres_perc  \n0                          NaN  \n1                          NaN  \n2                          NaN  \n3                     8.406360  \n4                     5.420442  \n\n[5 rows x 26 columns]",
      "text/html": "<div>\n<style scoped>\n    .dataframe tbody tr th:only-of-type {\n        vertical-align: middle;\n    }\n\n    .dataframe tbody tr th {\n        vertical-align: top;\n    }\n\n    .dataframe thead th {\n        text-align: right;\n    }\n</style>\n<table border=\"1\" class=\"dataframe\">\n  <thead>\n    <tr style=\"text-align: right;\">\n      <th></th>\n      <th>property_type</th>\n      <th>rent_type</th>\n      <th>location</th>\n      <th>price</th>\n      <th>n_rooms</th>\n      <th>n_bath</th>\n      <th>surface</th>\n      <th>details</th>\n      <th>url</th>\n      <th>metrocuadrado_index</th>\n      <th>...</th>\n      <th>UPlNombre</th>\n      <th>UPlArea</th>\n      <th>nomupz</th>\n      <th>personas</th>\n      <th>trabajoinf_ninos_5_17_anos_perc</th>\n      <th>trabajoinfampliado_ninos_5_17_anos_perc</th>\n      <th>jovenes_14_24_anos_nini_perc</th>\n      <th>indice_envegecimiento</th>\n      <th>jefe_mujer_perc</th>\n      <th>adultos_mayores_pobres_perc</th>\n    </tr>\n  </thead>\n  <tbody>\n    <tr>\n      <th>0</th>\n      <td>Casa</td>\n      <td>Arriendo</td>\n      <td>la soledad norte</td>\n      <td>1050000.0</td>\n      <td>3</td>\n      <td>2</td>\n      <td>63.0</td>\n      <td>Excelente casa cerca de la calle 80 y Avenida ...</td>\n      <td>https://www.metrocuadrado.com/inmueble/arriend...</td>\n      <td>25.6</td>\n      <td>...</td>\n      <td>NaN</td>\n      <td>NaN</td>\n      <td>NaN</td>\n      <td>NaN</td>\n      <td>NaN</td>\n      <td>NaN</td>\n      <td>NaN</td>\n      <td>NaN</td>\n      <td>NaN</td>\n      <td>NaN</td>\n    </tr>\n    <tr>\n      <th>1</th>\n      <td>Casa</td>\n      <td>Arriendo</td>\n      <td>ciudad salitre sur-oriental</td>\n      <td>3930000.0</td>\n      <td>3</td>\n      <td>2</td>\n      <td>100.0</td>\n      <td>Se arrienda casa bonita totalmente amoblada co...</td>\n      <td>https://www.metrocuadrado.com/inmueble/arriend...</td>\n      <td>57.3</td>\n      <td>...</td>\n      <td>NaN</td>\n      <td>NaN</td>\n      <td>NaN</td>\n      <td>NaN</td>\n      <td>NaN</td>\n      <td>NaN</td>\n      <td>NaN</td>\n      <td>NaN</td>\n      <td>NaN</td>\n      <td>NaN</td>\n    </tr>\n    <tr>\n      <th>2</th>\n      <td>Casa</td>\n      <td>Arriendo</td>\n      <td>villa de los alpes ii sector</td>\n      <td>750000.0</td>\n      <td>3</td>\n      <td>1</td>\n      <td>90.0</td>\n      <td>CASA DE TRES NIVELES TRES ALCOBAS SALA COMEDOR...</td>\n      <td>https://www.metrocuadrado.com/inmueble/arriend...</td>\n      <td>12.2</td>\n      <td>...</td>\n      <td>NaN</td>\n      <td>NaN</td>\n      <td>NaN</td>\n      <td>NaN</td>\n      <td>NaN</td>\n      <td>NaN</td>\n      <td>NaN</td>\n      <td>NaN</td>\n      <td>NaN</td>\n      <td>NaN</td>\n    </tr>\n    <tr>\n      <th>3</th>\n      <td>Casa</td>\n      <td>Arriendo</td>\n      <td>paris gaitan</td>\n      <td>3400000.0</td>\n      <td>5</td>\n      <td>4</td>\n      <td>71.0</td>\n      <td>casa ezquinera excelente ubicacion cinco alcob...</td>\n      <td>https://www.metrocuadrado.com/inmueble/arriend...</td>\n      <td>56.0</td>\n      <td>...</td>\n      <td>MINUTO DE DIOS</td>\n      <td>3.732645e+06</td>\n      <td>MINUTO DE DIOS</td>\n      <td>156375.0</td>\n      <td>1.1</td>\n      <td>0.8</td>\n      <td>12.6</td>\n      <td>71.1</td>\n      <td>37.073314</td>\n      <td>8.406360</td>\n    </tr>\n    <tr>\n      <th>4</th>\n      <td>Casa</td>\n      <td>Arriendo</td>\n      <td>balcones de oriente</td>\n      <td>1560000.0</td>\n      <td>4</td>\n      <td>3</td>\n      <td>96.0</td>\n      <td>Excelente casa de tres niveles, buena ubicació...</td>\n      <td>https://www.metrocuadrado.com/inmueble/arriend...</td>\n      <td>47.1</td>\n      <td>...</td>\n      <td>TOBERIN</td>\n      <td>2.906631e+06</td>\n      <td>TOBERIN</td>\n      <td>50037.0</td>\n      <td>1.8</td>\n      <td>16.7</td>\n      <td>9.1</td>\n      <td>54.7</td>\n      <td>36.279630</td>\n      <td>5.420442</td>\n    </tr>\n  </tbody>\n</table>\n<p>5 rows × 26 columns</p>\n</div>"
     },
     "metadata": {},
     "execution_count": 331
    }
   ],
   "source": [
    "df_est_pobl = pd.read_csv('data/estadisticas_upz/estadisticas_poblacion.csv',index_col=0)\n",
    "df_est_pobl.rename(columns={'upz':'UPZ_Codigo'}, inplace=True)\n",
    "df = pd.merge(df, df_est_pobl, how='left', on='UPZ_Codigo')\n",
    "df.head()"
   ]
  },
  {
   "cell_type": "code",
   "execution_count": 334,
   "metadata": {},
   "outputs": [
    {
     "output_type": "execute_result",
     "data": {
      "text/plain": "  property_type  rent_type             location      price n_rooms n_bath  \\\n0          Casa   Arriendo         paris gaitan  3400000.0       5      4   \n1          Casa   Arriendo  balcones de oriente  1560000.0       4      3   \n2          Casa   Arriendo            tibabuyes  1100000.0       3      2   \n3          Casa   Arriendo         paris gaitan  3400000.0       4      4   \n4          Casa   Arriendo         campo alegre   578000.0       3      2   \n\n   surface                                            details  \\\n0     71.0  casa ezquinera excelente ubicacion cinco alcob...   \n1     96.0  Excelente casa de tres niveles, buena ubicació...   \n2     69.0  Casa en conjunto cerrado, recién remodelada, c...   \n3     71.0  casa ezquinera tres niveles excelente ubicacio...   \n4     62.0  Casa de cuatro niveles amplias habitaciones zo...   \n\n                                                 url  metrocuadrado_index  \\\n0  https://www.metrocuadrado.com/inmueble/arriend...                 56.0   \n1  https://www.metrocuadrado.com/inmueble/arriend...                 47.1   \n2  https://www.metrocuadrado.com/inmueble/arriend...                 32.4   \n3  https://www.metrocuadrado.com/inmueble/arriend...                 60.9   \n4  https://www.metrocuadrado.com/inmueble/arriend...                 40.5   \n\n   ...          nomupz  personas trabajoinf_ninos_5_17_anos_perc  \\\n0  ...  MINUTO DE DIOS  156375.0                             1.1   \n1  ...         TOBERIN   50037.0                             1.8   \n2  ...            SUBA  158990.0                             0.4   \n3  ...  MINUTO DE DIOS  156375.0                             1.1   \n4  ...   SANTA BARBARA  115124.0                             1.5   \n\n   trabajoinfampliado_ninos_5_17_anos_perc jovenes_14_24_anos_nini_perc  \\\n0                                      0.8                         12.6   \n1                                     16.7                          9.1   \n2                                      1.8                         17.2   \n3                                      0.8                         12.6   \n4                                      2.0                          5.2   \n\n   indice_envegecimiento jefe_mujer_perc  adultos_mayores_pobres_perc  \\\n0                   71.1       37.073314                     8.406360   \n1                   54.7       36.279630                     5.420442   \n2                   24.8       34.847797                    13.750649   \n3                   71.1       37.073314                     8.406360   \n4                  127.3       38.443910                     3.840225   \n\n       UPlNombre2  indice_inseguridad  \n0  MINUTO DE DIOS            1.029160  \n1         TOBERIN            3.166227  \n2            SUBA            3.225806  \n3  MINUTO DE DIOS            1.029160  \n4   SANTA BARBARA            1.161103  \n\n[5 rows x 28 columns]",
      "text/html": "<div>\n<style scoped>\n    .dataframe tbody tr th:only-of-type {\n        vertical-align: middle;\n    }\n\n    .dataframe tbody tr th {\n        vertical-align: top;\n    }\n\n    .dataframe thead th {\n        text-align: right;\n    }\n</style>\n<table border=\"1\" class=\"dataframe\">\n  <thead>\n    <tr style=\"text-align: right;\">\n      <th></th>\n      <th>property_type</th>\n      <th>rent_type</th>\n      <th>location</th>\n      <th>price</th>\n      <th>n_rooms</th>\n      <th>n_bath</th>\n      <th>surface</th>\n      <th>details</th>\n      <th>url</th>\n      <th>metrocuadrado_index</th>\n      <th>...</th>\n      <th>nomupz</th>\n      <th>personas</th>\n      <th>trabajoinf_ninos_5_17_anos_perc</th>\n      <th>trabajoinfampliado_ninos_5_17_anos_perc</th>\n      <th>jovenes_14_24_anos_nini_perc</th>\n      <th>indice_envegecimiento</th>\n      <th>jefe_mujer_perc</th>\n      <th>adultos_mayores_pobres_perc</th>\n      <th>UPlNombre2</th>\n      <th>indice_inseguridad</th>\n    </tr>\n  </thead>\n  <tbody>\n    <tr>\n      <th>0</th>\n      <td>Casa</td>\n      <td>Arriendo</td>\n      <td>paris gaitan</td>\n      <td>3400000.0</td>\n      <td>5</td>\n      <td>4</td>\n      <td>71.0</td>\n      <td>casa ezquinera excelente ubicacion cinco alcob...</td>\n      <td>https://www.metrocuadrado.com/inmueble/arriend...</td>\n      <td>56.0</td>\n      <td>...</td>\n      <td>MINUTO DE DIOS</td>\n      <td>156375.0</td>\n      <td>1.1</td>\n      <td>0.8</td>\n      <td>12.6</td>\n      <td>71.1</td>\n      <td>37.073314</td>\n      <td>8.406360</td>\n      <td>MINUTO DE DIOS</td>\n      <td>1.029160</td>\n    </tr>\n    <tr>\n      <th>1</th>\n      <td>Casa</td>\n      <td>Arriendo</td>\n      <td>balcones de oriente</td>\n      <td>1560000.0</td>\n      <td>4</td>\n      <td>3</td>\n      <td>96.0</td>\n      <td>Excelente casa de tres niveles, buena ubicació...</td>\n      <td>https://www.metrocuadrado.com/inmueble/arriend...</td>\n      <td>47.1</td>\n      <td>...</td>\n      <td>TOBERIN</td>\n      <td>50037.0</td>\n      <td>1.8</td>\n      <td>16.7</td>\n      <td>9.1</td>\n      <td>54.7</td>\n      <td>36.279630</td>\n      <td>5.420442</td>\n      <td>TOBERIN</td>\n      <td>3.166227</td>\n    </tr>\n    <tr>\n      <th>2</th>\n      <td>Casa</td>\n      <td>Arriendo</td>\n      <td>tibabuyes</td>\n      <td>1100000.0</td>\n      <td>3</td>\n      <td>2</td>\n      <td>69.0</td>\n      <td>Casa en conjunto cerrado, recién remodelada, c...</td>\n      <td>https://www.metrocuadrado.com/inmueble/arriend...</td>\n      <td>32.4</td>\n      <td>...</td>\n      <td>SUBA</td>\n      <td>158990.0</td>\n      <td>0.4</td>\n      <td>1.8</td>\n      <td>17.2</td>\n      <td>24.8</td>\n      <td>34.847797</td>\n      <td>13.750649</td>\n      <td>SUBA</td>\n      <td>3.225806</td>\n    </tr>\n    <tr>\n      <th>3</th>\n      <td>Casa</td>\n      <td>Arriendo</td>\n      <td>paris gaitan</td>\n      <td>3400000.0</td>\n      <td>4</td>\n      <td>4</td>\n      <td>71.0</td>\n      <td>casa ezquinera tres niveles excelente ubicacio...</td>\n      <td>https://www.metrocuadrado.com/inmueble/arriend...</td>\n      <td>60.9</td>\n      <td>...</td>\n      <td>MINUTO DE DIOS</td>\n      <td>156375.0</td>\n      <td>1.1</td>\n      <td>0.8</td>\n      <td>12.6</td>\n      <td>71.1</td>\n      <td>37.073314</td>\n      <td>8.406360</td>\n      <td>MINUTO DE DIOS</td>\n      <td>1.029160</td>\n    </tr>\n    <tr>\n      <th>4</th>\n      <td>Casa</td>\n      <td>Arriendo</td>\n      <td>campo alegre</td>\n      <td>578000.0</td>\n      <td>3</td>\n      <td>2</td>\n      <td>62.0</td>\n      <td>Casa de cuatro niveles amplias habitaciones zo...</td>\n      <td>https://www.metrocuadrado.com/inmueble/arriend...</td>\n      <td>40.5</td>\n      <td>...</td>\n      <td>SANTA BARBARA</td>\n      <td>115124.0</td>\n      <td>1.5</td>\n      <td>2.0</td>\n      <td>5.2</td>\n      <td>127.3</td>\n      <td>38.443910</td>\n      <td>3.840225</td>\n      <td>SANTA BARBARA</td>\n      <td>1.161103</td>\n    </tr>\n  </tbody>\n</table>\n<p>5 rows × 28 columns</p>\n</div>"
     },
     "metadata": {},
     "execution_count": 334
    }
   ],
   "source": [
    "df_est_ind = pd.read_csv('data/estadisticas_upz/indice_inseguridad.csv',index_col=0)\n",
    "df_est_ind.rename(columns={'UPlCodigo':'UPZ_Codigo'}, inplace=True)\n",
    "df = pd.merge(df, df_est_ind, how='left', on='UPZ_Codigo')\n",
    "df.head()"
   ]
  },
  {
   "cell_type": "code",
   "execution_count": 341,
   "metadata": {},
   "outputs": [
    {
     "output_type": "execute_result",
     "data": {
      "text/plain": "  property_type  rent_type             location      price n_rooms n_bath  \\\n0          Casa   Arriendo         paris gaitan  3400000.0       5      4   \n1          Casa   Arriendo  balcones de oriente  1560000.0       4      3   \n2          Casa   Arriendo            tibabuyes  1100000.0       3      2   \n3          Casa   Arriendo         paris gaitan  3400000.0       4      4   \n4          Casa   Arriendo         campo alegre   578000.0       3      2   \n\n   surface                                            details  \\\n0     71.0  casa ezquinera excelente ubicacion cinco alcob...   \n1     96.0  Excelente casa de tres niveles, buena ubicació...   \n2     69.0  Casa en conjunto cerrado, recién remodelada, c...   \n3     71.0  casa ezquinera tres niveles excelente ubicacio...   \n4     62.0  Casa de cuatro niveles amplias habitaciones zo...   \n\n                                                 url  metrocuadrado_index  \\\n0  https://www.metrocuadrado.com/inmueble/arriend...                 56.0   \n1  https://www.metrocuadrado.com/inmueble/arriend...                 47.1   \n2  https://www.metrocuadrado.com/inmueble/arriend...                 32.4   \n3  https://www.metrocuadrado.com/inmueble/arriend...                 60.9   \n4  https://www.metrocuadrado.com/inmueble/arriend...                 40.5   \n\n   ... trabajoinf_ninos_5_17_anos_perc  \\\n0  ...                             1.1   \n1  ...                             1.8   \n2  ...                             0.4   \n3  ...                             1.1   \n4  ...                             1.5   \n\n   trabajoinfampliado_ninos_5_17_anos_perc jovenes_14_24_anos_nini_perc  \\\n0                                      0.8                         12.6   \n1                                     16.7                          9.1   \n2                                      1.8                         17.2   \n3                                      0.8                         12.6   \n4                                      2.0                          5.2   \n\n   indice_envegecimiento jefe_mujer_perc  adultos_mayores_pobres_perc  \\\n0                   71.1       37.073314                     8.406360   \n1                   54.7       36.279630                     5.420442   \n2                   24.8       34.847797                    13.750649   \n3                   71.1       37.073314                     8.406360   \n4                  127.3       38.443910                     3.840225   \n\n       UPlNombre2  indice_inseguridad             upz  areas_verdes_perc  \n0  MINUTO DE DIOS            1.029160  Minuto de Dios          37.852289  \n1         TOBERIN            3.166227         Toberin          32.395663  \n2            SUBA            3.225806            Suba          45.096719  \n3  MINUTO DE DIOS            1.029160  Minuto de Dios          37.852289  \n4   SANTA BARBARA            1.161103   Santa Barbara          25.466350  \n\n[5 rows x 30 columns]",
      "text/html": "<div>\n<style scoped>\n    .dataframe tbody tr th:only-of-type {\n        vertical-align: middle;\n    }\n\n    .dataframe tbody tr th {\n        vertical-align: top;\n    }\n\n    .dataframe thead th {\n        text-align: right;\n    }\n</style>\n<table border=\"1\" class=\"dataframe\">\n  <thead>\n    <tr style=\"text-align: right;\">\n      <th></th>\n      <th>property_type</th>\n      <th>rent_type</th>\n      <th>location</th>\n      <th>price</th>\n      <th>n_rooms</th>\n      <th>n_bath</th>\n      <th>surface</th>\n      <th>details</th>\n      <th>url</th>\n      <th>metrocuadrado_index</th>\n      <th>...</th>\n      <th>trabajoinf_ninos_5_17_anos_perc</th>\n      <th>trabajoinfampliado_ninos_5_17_anos_perc</th>\n      <th>jovenes_14_24_anos_nini_perc</th>\n      <th>indice_envegecimiento</th>\n      <th>jefe_mujer_perc</th>\n      <th>adultos_mayores_pobres_perc</th>\n      <th>UPlNombre2</th>\n      <th>indice_inseguridad</th>\n      <th>upz</th>\n      <th>areas_verdes_perc</th>\n    </tr>\n  </thead>\n  <tbody>\n    <tr>\n      <th>0</th>\n      <td>Casa</td>\n      <td>Arriendo</td>\n      <td>paris gaitan</td>\n      <td>3400000.0</td>\n      <td>5</td>\n      <td>4</td>\n      <td>71.0</td>\n      <td>casa ezquinera excelente ubicacion cinco alcob...</td>\n      <td>https://www.metrocuadrado.com/inmueble/arriend...</td>\n      <td>56.0</td>\n      <td>...</td>\n      <td>1.1</td>\n      <td>0.8</td>\n      <td>12.6</td>\n      <td>71.1</td>\n      <td>37.073314</td>\n      <td>8.406360</td>\n      <td>MINUTO DE DIOS</td>\n      <td>1.029160</td>\n      <td>Minuto de Dios</td>\n      <td>37.852289</td>\n    </tr>\n    <tr>\n      <th>1</th>\n      <td>Casa</td>\n      <td>Arriendo</td>\n      <td>balcones de oriente</td>\n      <td>1560000.0</td>\n      <td>4</td>\n      <td>3</td>\n      <td>96.0</td>\n      <td>Excelente casa de tres niveles, buena ubicació...</td>\n      <td>https://www.metrocuadrado.com/inmueble/arriend...</td>\n      <td>47.1</td>\n      <td>...</td>\n      <td>1.8</td>\n      <td>16.7</td>\n      <td>9.1</td>\n      <td>54.7</td>\n      <td>36.279630</td>\n      <td>5.420442</td>\n      <td>TOBERIN</td>\n      <td>3.166227</td>\n      <td>Toberin</td>\n      <td>32.395663</td>\n    </tr>\n    <tr>\n      <th>2</th>\n      <td>Casa</td>\n      <td>Arriendo</td>\n      <td>tibabuyes</td>\n      <td>1100000.0</td>\n      <td>3</td>\n      <td>2</td>\n      <td>69.0</td>\n      <td>Casa en conjunto cerrado, recién remodelada, c...</td>\n      <td>https://www.metrocuadrado.com/inmueble/arriend...</td>\n      <td>32.4</td>\n      <td>...</td>\n      <td>0.4</td>\n      <td>1.8</td>\n      <td>17.2</td>\n      <td>24.8</td>\n      <td>34.847797</td>\n      <td>13.750649</td>\n      <td>SUBA</td>\n      <td>3.225806</td>\n      <td>Suba</td>\n      <td>45.096719</td>\n    </tr>\n    <tr>\n      <th>3</th>\n      <td>Casa</td>\n      <td>Arriendo</td>\n      <td>paris gaitan</td>\n      <td>3400000.0</td>\n      <td>4</td>\n      <td>4</td>\n      <td>71.0</td>\n      <td>casa ezquinera tres niveles excelente ubicacio...</td>\n      <td>https://www.metrocuadrado.com/inmueble/arriend...</td>\n      <td>60.9</td>\n      <td>...</td>\n      <td>1.1</td>\n      <td>0.8</td>\n      <td>12.6</td>\n      <td>71.1</td>\n      <td>37.073314</td>\n      <td>8.406360</td>\n      <td>MINUTO DE DIOS</td>\n      <td>1.029160</td>\n      <td>Minuto de Dios</td>\n      <td>37.852289</td>\n    </tr>\n    <tr>\n      <th>4</th>\n      <td>Casa</td>\n      <td>Arriendo</td>\n      <td>campo alegre</td>\n      <td>578000.0</td>\n      <td>3</td>\n      <td>2</td>\n      <td>62.0</td>\n      <td>Casa de cuatro niveles amplias habitaciones zo...</td>\n      <td>https://www.metrocuadrado.com/inmueble/arriend...</td>\n      <td>40.5</td>\n      <td>...</td>\n      <td>1.5</td>\n      <td>2.0</td>\n      <td>5.2</td>\n      <td>127.3</td>\n      <td>38.443910</td>\n      <td>3.840225</td>\n      <td>SANTA BARBARA</td>\n      <td>1.161103</td>\n      <td>Santa Barbara</td>\n      <td>25.466350</td>\n    </tr>\n  </tbody>\n</table>\n<p>5 rows × 30 columns</p>\n</div>"
     },
     "metadata": {},
     "execution_count": 341
    }
   ],
   "source": [
    "df_est_por = pd.read_csv('data/estadisticas_upz/porcentaje_areas_verdes.csv',index_col=0)\n",
    "df_est_por.rename(columns={'cod_upz':'UPZ_Codigo'}, inplace=True)\n",
    "df_est_por['UPZ_Codigo'] = df_est_por['UPZ_Codigo'].astype(int)\n",
    "df_est_por['UPZ_Codigo'] = ['UPZ'+str(x) for x in df_est_por['UPZ_Codigo']]\n",
    "df = pd.merge(df, df_est_por, how='left', on='UPZ_Codigo')\n",
    "df.head()"
   ]
  },
  {
   "cell_type": "code",
   "execution_count": 347,
   "metadata": {},
   "outputs": [],
   "source": [
    "df['densidad_pobl'] = df['personas']/df['surface']"
   ]
  },
  {
   "cell_type": "code",
   "execution_count": null,
   "metadata": {},
   "outputs": [],
   "source": []
  }
 ],
 "metadata": {
  "language_info": {
   "codemirror_mode": {
    "name": "ipython",
    "version": 3
   },
   "file_extension": ".py",
   "mimetype": "text/x-python",
   "name": "python",
   "nbconvert_exporter": "python",
   "pygments_lexer": "ipython3",
   "version": "3.7.1-final"
  },
  "orig_nbformat": 2,
  "kernelspec": {
   "name": "python3",
   "display_name": "Python 3"
  }
 },
 "nbformat": 4,
 "nbformat_minor": 2
}