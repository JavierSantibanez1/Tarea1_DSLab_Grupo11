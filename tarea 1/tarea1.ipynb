{
 "cells": [
  {
   "cell_type": "markdown",
   "metadata": {},
   "source": [
    "# Tarea 1: DS Lab\n",
    "- Ricardo Arancibia\n",
    "- José Díaz\n",
    "- Javier Santibáñez"
   ]
  },
  {
   "cell_type": "code",
   "execution_count": 1,
   "metadata": {},
   "outputs": [],
   "source": [
    "import numpy as np\n",
    "import pandas as pd\n",
    "import matplotlib.pyplot as plt\n",
    "import seaborn as sns"
   ]
  },
  {
   "cell_type": "markdown",
   "metadata": {},
   "source": [
    "## P1"
   ]
  },
  {
   "cell_type": "code",
   "execution_count": 2,
   "metadata": {},
   "outputs": [
    {
     "output_type": "stream",
     "name": "stdout",
     "text": "(16295, 9)\n"
    }
   ],
   "source": [
    "# 1\n",
    "df_all = pd.read_csv('data/raw/w{}/metrocuadrado_all_w{}.csv'.format(str(13),str(13)))\n",
    "for NN in range(14,18):\n",
    "    direc = 'data/raw/w{}/metrocuadrado_all_w{}.csv'.format(str(NN),str(NN))\n",
    "    df_aux = pd.read_csv(direc)\n",
    "    df_all = pd.concat([df_all,df_aux], ignore_index= True)\n",
    "df_all['Archivo'] = 'all' \n",
    "df_all.drop_duplicates(inplace=True, ignore_index= True)\n",
    "print(df_all.shape)"
   ]
  },
  {
   "cell_type": "code",
   "execution_count": 3,
   "metadata": {},
   "outputs": [
    {
     "output_type": "stream",
     "name": "stdout",
     "text": "(2099, 9)\n"
    }
   ],
   "source": [
    "df_fur = pd.read_csv('data/raw/w{}/metrocuadrado_furnished_w{}.csv'.format(str(13),str(13)))\n",
    "for NN in range(14,18):\n",
    "    direc = 'data/raw/w{}/metrocuadrado_furnished_w{}.csv'.format(str(NN),str(NN))\n",
    "    df_aux = pd.read_csv(direc)\n",
    "    df_fur = pd.concat([df_fur,df_aux], ignore_index= True)\n",
    "df_fur['Archivo'] = 'furnished'\n",
    "df_fur.drop_duplicates(inplace=True, ignore_index= True)\n",
    "print(df_fur.shape)"
   ]
  },
  {
   "cell_type": "code",
   "execution_count": 9,
   "metadata": {},
   "outputs": [
    {
     "output_type": "stream",
     "name": "stdout",
     "text": "(18394, 9)\n"
    },
    {
     "output_type": "execute_result",
     "data": {
      "text/plain": "                    property_type|rent_type|location       price n_rooms  \\\n0    Casa en Arriendo, LA SOLEDAD NORTE Bogotá D.C..  $1.050.000       3   \n1  Casa en Arriendo, CIUDAD SALITRE SUR-ORIENTAL ...  $3.930.000       3   \n2  Casa en Arriendo, VILLA DE LOS ALPES II SECTOR...    $750.000       3   \n3        Casa en Arriendo, PARIS GAITAN Bogotá D.C..  $3.400.000       5   \n4  Casa en Arriendo, BALCONES DE ORIENTE Bogotá D...  $1.560.000       4   \n\n  n_bath   surface                                            details  \\\n0      2   63.0 m2  Excelente casa cerca de la calle 80 y Avenida ...   \n1      2  100.0 m2  Se arrienda casa bonita totalmente amoblada co...   \n2      1   90.0 m2  CASA DE TRES NIVELES TRES ALCOBAS SALA COMEDOR...   \n3      4   71.0 m2  casa ezquinera excelente ubicacion cinco alcob...   \n4      3   96.0 m2  Excelente casa de tres niveles, buena ubicació...   \n\n                                                 url  metrocuadrado_index  \\\n0  https://www.metrocuadrado.com/inmueble/arriend...                 25.6   \n1  https://www.metrocuadrado.com/inmueble/arriend...                 57.3   \n2  https://www.metrocuadrado.com/inmueble/arriend...                 12.2   \n3  https://www.metrocuadrado.com/inmueble/arriend...                 56.0   \n4  https://www.metrocuadrado.com/inmueble/arriend...                 47.1   \n\n  Archivo  \n0     all  \n1     all  \n2     all  \n3     all  \n4     all  ",
      "text/html": "<div>\n<style scoped>\n    .dataframe tbody tr th:only-of-type {\n        vertical-align: middle;\n    }\n\n    .dataframe tbody tr th {\n        vertical-align: top;\n    }\n\n    .dataframe thead th {\n        text-align: right;\n    }\n</style>\n<table border=\"1\" class=\"dataframe\">\n  <thead>\n    <tr style=\"text-align: right;\">\n      <th></th>\n      <th>property_type|rent_type|location</th>\n      <th>price</th>\n      <th>n_rooms</th>\n      <th>n_bath</th>\n      <th>surface</th>\n      <th>details</th>\n      <th>url</th>\n      <th>metrocuadrado_index</th>\n      <th>Archivo</th>\n    </tr>\n  </thead>\n  <tbody>\n    <tr>\n      <th>0</th>\n      <td>Casa en Arriendo, LA SOLEDAD NORTE Bogotá D.C..</td>\n      <td>$1.050.000</td>\n      <td>3</td>\n      <td>2</td>\n      <td>63.0 m2</td>\n      <td>Excelente casa cerca de la calle 80 y Avenida ...</td>\n      <td>https://www.metrocuadrado.com/inmueble/arriend...</td>\n      <td>25.6</td>\n      <td>all</td>\n    </tr>\n    <tr>\n      <th>1</th>\n      <td>Casa en Arriendo, CIUDAD SALITRE SUR-ORIENTAL ...</td>\n      <td>$3.930.000</td>\n      <td>3</td>\n      <td>2</td>\n      <td>100.0 m2</td>\n      <td>Se arrienda casa bonita totalmente amoblada co...</td>\n      <td>https://www.metrocuadrado.com/inmueble/arriend...</td>\n      <td>57.3</td>\n      <td>all</td>\n    </tr>\n    <tr>\n      <th>2</th>\n      <td>Casa en Arriendo, VILLA DE LOS ALPES II SECTOR...</td>\n      <td>$750.000</td>\n      <td>3</td>\n      <td>1</td>\n      <td>90.0 m2</td>\n      <td>CASA DE TRES NIVELES TRES ALCOBAS SALA COMEDOR...</td>\n      <td>https://www.metrocuadrado.com/inmueble/arriend...</td>\n      <td>12.2</td>\n      <td>all</td>\n    </tr>\n    <tr>\n      <th>3</th>\n      <td>Casa en Arriendo, PARIS GAITAN Bogotá D.C..</td>\n      <td>$3.400.000</td>\n      <td>5</td>\n      <td>4</td>\n      <td>71.0 m2</td>\n      <td>casa ezquinera excelente ubicacion cinco alcob...</td>\n      <td>https://www.metrocuadrado.com/inmueble/arriend...</td>\n      <td>56.0</td>\n      <td>all</td>\n    </tr>\n    <tr>\n      <th>4</th>\n      <td>Casa en Arriendo, BALCONES DE ORIENTE Bogotá D...</td>\n      <td>$1.560.000</td>\n      <td>4</td>\n      <td>3</td>\n      <td>96.0 m2</td>\n      <td>Excelente casa de tres niveles, buena ubicació...</td>\n      <td>https://www.metrocuadrado.com/inmueble/arriend...</td>\n      <td>47.1</td>\n      <td>all</td>\n    </tr>\n  </tbody>\n</table>\n</div>"
     },
     "metadata": {},
     "execution_count": 9
    }
   ],
   "source": [
    "df = pd.concat([df_all,df_fur],ignore_index= True)\n",
    "print(df.shape)\n",
    "df.head()"
   ]
  },
  {
   "cell_type": "code",
   "execution_count": 10,
   "metadata": {},
   "outputs": [
    {
     "output_type": "stream",
     "name": "stdout",
     "text": "(18143, 9)\n"
    }
   ],
   "source": [
    "# 2\n",
    "df.dropna(subset=['price','n_rooms','n_bath','surface'], inplace=True)\n",
    "df.reset_index(drop=True,inplace=True)\n",
    "print(df.shape)"
   ]
  },
  {
   "cell_type": "code",
   "execution_count": 11,
   "metadata": {},
   "outputs": [],
   "source": [
    "# 2.a\n",
    "df['price'] = [x.replace('$','') for x in df['price']]\n",
    "df['price'] = [x.replace('.','') for x in df['price']]\n",
    "df['surface'] = [x.replace(' m2','') for x in df['surface']]\n",
    "df['price'] = df['price'].astype('float64')\n",
    "df['surface'] = df['surface'].astype('float64')\n",
    "for i in range(len(df)):\n",
    "    x = df['n_bath'][i]\n",
    "    y = df['n_rooms'][i]\n",
    "    if type(x)== float:\n",
    "        df['n_bath'][i] = str(int(x)) # 3.0 <-> '3'\n",
    "    if type(y)== float:\n",
    "        df['n_rooms'][i] = str(int(y))"
   ]
  },
  {
   "cell_type": "code",
   "execution_count": 12,
   "metadata": {},
   "outputs": [
    {
     "output_type": "execute_result",
     "data": {
      "text/plain": "  property_type  rent_type                      location      price n_rooms  \\\n0          Casa   Arriendo              la soledad norte  1050000.0       3   \n1          Casa   Arriendo   ciudad salitre sur-oriental  3930000.0       3   \n2          Casa   Arriendo  villa de los alpes ii sector   750000.0       3   \n\n  n_bath  surface                                            details  \\\n0      2     63.0  Excelente casa cerca de la calle 80 y Avenida ...   \n1      2    100.0  Se arrienda casa bonita totalmente amoblada co...   \n2      1     90.0  CASA DE TRES NIVELES TRES ALCOBAS SALA COMEDOR...   \n\n                                                 url  metrocuadrado_index  \\\n0  https://www.metrocuadrado.com/inmueble/arriend...                 25.6   \n1  https://www.metrocuadrado.com/inmueble/arriend...                 57.3   \n2  https://www.metrocuadrado.com/inmueble/arriend...                 12.2   \n\n  Archivo  \n0     all  \n1     all  \n2     all  ",
      "text/html": "<div>\n<style scoped>\n    .dataframe tbody tr th:only-of-type {\n        vertical-align: middle;\n    }\n\n    .dataframe tbody tr th {\n        vertical-align: top;\n    }\n\n    .dataframe thead th {\n        text-align: right;\n    }\n</style>\n<table border=\"1\" class=\"dataframe\">\n  <thead>\n    <tr style=\"text-align: right;\">\n      <th></th>\n      <th>property_type</th>\n      <th>rent_type</th>\n      <th>location</th>\n      <th>price</th>\n      <th>n_rooms</th>\n      <th>n_bath</th>\n      <th>surface</th>\n      <th>details</th>\n      <th>url</th>\n      <th>metrocuadrado_index</th>\n      <th>Archivo</th>\n    </tr>\n  </thead>\n  <tbody>\n    <tr>\n      <th>0</th>\n      <td>Casa</td>\n      <td>Arriendo</td>\n      <td>la soledad norte</td>\n      <td>1050000.0</td>\n      <td>3</td>\n      <td>2</td>\n      <td>63.0</td>\n      <td>Excelente casa cerca de la calle 80 y Avenida ...</td>\n      <td>https://www.metrocuadrado.com/inmueble/arriend...</td>\n      <td>25.6</td>\n      <td>all</td>\n    </tr>\n    <tr>\n      <th>1</th>\n      <td>Casa</td>\n      <td>Arriendo</td>\n      <td>ciudad salitre sur-oriental</td>\n      <td>3930000.0</td>\n      <td>3</td>\n      <td>2</td>\n      <td>100.0</td>\n      <td>Se arrienda casa bonita totalmente amoblada co...</td>\n      <td>https://www.metrocuadrado.com/inmueble/arriend...</td>\n      <td>57.3</td>\n      <td>all</td>\n    </tr>\n    <tr>\n      <th>2</th>\n      <td>Casa</td>\n      <td>Arriendo</td>\n      <td>villa de los alpes ii sector</td>\n      <td>750000.0</td>\n      <td>3</td>\n      <td>1</td>\n      <td>90.0</td>\n      <td>CASA DE TRES NIVELES TRES ALCOBAS SALA COMEDOR...</td>\n      <td>https://www.metrocuadrado.com/inmueble/arriend...</td>\n      <td>12.2</td>\n      <td>all</td>\n    </tr>\n  </tbody>\n</table>\n</div>"
     },
     "metadata": {},
     "execution_count": 12
    }
   ],
   "source": [
    "# 2.b\n",
    "df_aux = df['property_type|rent_type|location'].str.split(pat=',',expand =True)\n",
    "df_aux[0] = [x.replace(' ',', ', 1) for x in df_aux[0]]\n",
    "df_aux = pd.concat([df_aux[0].str.split(pat=',',expand =True), df_aux[1]], axis=1, ignore_index=True)\n",
    "df_aux.columns = ['property_type','rent_type','location']\n",
    "df_aux['rent_type'] = [x.replace('en ','') for x in df_aux['rent_type']]\n",
    "df = pd.concat([df_aux,df.drop(columns=['property_type|rent_type|location'])], axis=1)\n",
    "df['location'] = df['location'].apply(str.lower)\n",
    "df['location'] = [x.replace(' bogotá d.c..','') for x in df['location']]\n",
    "df['location'] = df['location'].apply(str.strip)\n",
    "df.head(3)"
   ]
  },
  {
   "cell_type": "code",
   "execution_count": 13,
   "metadata": {},
   "outputs": [],
   "source": [
    "# 3\n",
    "df['price_by_m2'] = df['price']/df['surface']\n",
    "\n",
    "lista = []\n",
    "for x in df['url']:\n",
    "    if x.find('-garajes')==-1:\n",
    "        lista.append('0')\n",
    "    else:\n",
    "        lista.append(x[x.find('banos-')+6: x.find('-garajes')])\n",
    "df['n_garajes'] = lista"
   ]
  },
  {
   "cell_type": "code",
   "execution_count": 14,
   "metadata": {},
   "outputs": [],
   "source": [
    "# 4\n",
    "df['tipo_producto'] = np.zeros(len(df)) # categoria 0\n",
    "indices=df.query('80<=surface <120 and property_type==\"Casa\"').index\n",
    "df.loc[indices,'tipo_producto'] = 1\n",
    "indices=df.query('120<=surface <180 and property_type==\"Casa\"').index\n",
    "df.loc[indices,'tipo_producto'] = 2\n",
    "indices=df.query('180<=surface <240 and property_type==\"Casa\"').index\n",
    "df.loc[indices,'tipo_producto'] = 3\n",
    "indices=df.query('240<=surface <360 and property_type==\"Casa\"').index\n",
    "df.loc[indices,'tipo_producto'] = 4\n",
    "indices=df.query('360<=surface <=460 and property_type==\"Casa\"').index\n",
    "df.loc[indices,'tipo_producto'] = 5\n",
    "indices=df.query('40<=surface <60 and property_type==\"Apartamento\"').index\n",
    "df.loc[indices,'tipo_producto'] = 6\n",
    "indices=df.query('60<=surface <80 and property_type==\"Apartamento\"').index\n",
    "df.loc[indices,'tipo_producto'] = 7\n",
    "indices=df.query('80<=surface <=120 and property_type==\"Apartamento\"').index\n",
    "df.loc[indices,'tipo_producto'] = 8"
   ]
  },
  {
   "cell_type": "code",
   "execution_count": 15,
   "metadata": {},
   "outputs": [
    {
     "output_type": "stream",
     "name": "stdout",
     "text": "Numero de observaciones a los que no se les puede adjuntar un codigo UPZ:  2031\nPorcentaje asignable:  88.8\n"
    }
   ],
   "source": [
    "# 5\n",
    "df_upz = pd.read_csv('data/asignacion_upz/barrio-upz.csv')\n",
    "df_upz.rename(columns={'pro_location':'location'}, inplace=True)\n",
    "df = pd.merge(df, df_upz, how='left', on='location')\n",
    "df.rename(columns={'UPlCodigo':'UPZ_Codigo'}, inplace=True)\n",
    "print('Numero de observaciones a los que no se les puede adjuntar un codigo UPZ: ', df['UPZ_Codigo'].isna().sum())\n",
    "print(\"Porcentaje asignable: \", round((len(df)-df['UPZ_Codigo'].isna().sum())/len(df)*100,1))\n",
    "df.dropna(subset=['UPZ_Codigo'], inplace=True)\n",
    "df.reset_index(drop=True,inplace=True)"
   ]
  },
  {
   "cell_type": "code",
   "execution_count": 16,
   "metadata": {},
   "outputs": [],
   "source": [
    "# 6\n",
    "df_est_pobl = pd.read_csv('data/estadisticas_upz/estadisticas_poblacion.csv',index_col=0)\n",
    "df_est_pobl.rename(columns={'upz':'UPZ_Codigo'}, inplace=True)\n",
    "df = pd.merge(df, df_est_pobl, how='left', on='UPZ_Codigo')\n",
    "\n",
    "df_est_ind = pd.read_csv('data/estadisticas_upz/indice_inseguridad.csv',index_col=0)\n",
    "df_est_ind.rename(columns={'UPlCodigo':'UPZ_Codigo'}, inplace=True)\n",
    "df = pd.merge(df, df_est_ind, how='left', on='UPZ_Codigo')\n",
    "\n",
    "df_est_por = pd.read_csv('data/estadisticas_upz/porcentaje_areas_verdes.csv',index_col=0)\n",
    "df_est_por.rename(columns={'cod_upz':'UPZ_Codigo'}, inplace=True)\n",
    "df_est_por['UPZ_Codigo'] = df_est_por['UPZ_Codigo'].astype(int)\n",
    "df_est_por['UPZ_Codigo'] = ['UPZ'+str(x) for x in df_est_por['UPZ_Codigo']]\n",
    "df = pd.merge(df, df_est_por, how='left', on='UPZ_Codigo')\n",
    "\n",
    "df['densidad_pobl'] = df['personas']/df['UPlArea']"
   ]
  },
  {
   "cell_type": "code",
   "execution_count": null,
   "metadata": {},
   "outputs": [],
   "source": [
    "df.head()"
   ]
  }
 ],
 "metadata": {
  "language_info": {
   "codemirror_mode": {
    "name": "ipython",
    "version": 3
   },
   "file_extension": ".py",
   "mimetype": "text/x-python",
   "name": "python",
   "nbconvert_exporter": "python",
   "pygments_lexer": "ipython3",
   "version": "3.7.1-final"
  },
  "orig_nbformat": 2,
  "kernelspec": {
   "name": "python3",
   "display_name": "Python 3"
  }
 },
 "nbformat": 4,
 "nbformat_minor": 2
}